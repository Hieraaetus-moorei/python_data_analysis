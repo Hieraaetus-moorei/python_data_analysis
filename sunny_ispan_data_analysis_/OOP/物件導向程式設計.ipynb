{
 "cells": [
  {
   "cell_type": "markdown",
   "metadata": {},
   "source": [
    "## 定義類別"
   ]
  },
  {
   "cell_type": "code",
   "execution_count": 50,
   "metadata": {},
   "outputs": [
    {
     "name": "stdout",
     "output_type": "stream",
     "text": [
      "vovo\n",
      "xc60\n",
      "vovo xc60\n",
      "1000\n",
      "0.4\n"
     ]
    }
   ],
   "source": [
    "# 屬性定義方式\n",
    "# 定義一個汽車類別\n",
    "class Car:\n",
    "\n",
    "    carPrice = 1000\n",
    "    # 初始化方法，用於創建汽車的實例並設置初始屬性\n",
    "    def __init__(self, make, model, year):\n",
    "        self.make = make\n",
    "        self.model = model\n",
    "        self.year = year\n",
    "        self.speed = 0\n",
    "        self.getNamefrom_init = self.make + \" \" + self.model\n",
    "\n",
    "    # 成員方法，用於減速汽車\n",
    "    def brake(self, decrement):\n",
    "        self.speed -= decrement\n",
    "        print(f\"減速到速度 {self.speed} km/h。\")\n",
    "\n",
    "\n",
    "\n",
    "Car = Car(\"vovo\", \"xc60\", \"2023\")\n",
    "\n",
    "# 方法一 從 init 內取值\n",
    "print(Car.make)\n",
    "print(Car.model)\n",
    "print(Car.getNamefrom_init)\n",
    "\n",
    "# 方法二 從 init 外取值\n",
    "print(Car.carPrice)\n",
    "\n",
    "# 方法三 強制定義\n",
    "Car.priceOff = 0.4\n",
    "print(Car.priceOff)\n",
    "\n",
    "        \n",
    "    \n"
   ]
  },
  {
   "cell_type": "code",
   "execution_count": 51,
   "metadata": {},
   "outputs": [
    {
     "name": "stdout",
     "output_type": "stream",
     "text": [
      "2022 Toyota Camry 發動了。\n",
      "加速到速度 40 km/h。\n",
      "減速到速度 30 km/h。\n",
      "2022 Toyota Camry 停止了。\n",
      "----------------\n",
      "2022 BMW X6 發動了。\n",
      "加速到速度 40 km/h。\n",
      "減速到速度 30 km/h。\n",
      "2022 BMW X6 停止了。\n"
     ]
    }
   ],
   "source": [
    "# 定義一個汽車類別\n",
    "class Car:\n",
    "    # 初始化方法，用於創建汽車的實例並設置初始屬性\n",
    "    def __init__(self, make, model, year):\n",
    "        self.make = make\n",
    "        self.model = model\n",
    "        self.year = year\n",
    "        self.speed = 0\n",
    "\n",
    "    # 成員方法，用於啟動汽車\n",
    "    def start(self):\n",
    "        print(f\"{self.year} {self.make} {self.model} 發動了。\")\n",
    "\n",
    "    # 成員方法，用於加速汽車\n",
    "    def accelerate(self, increment):\n",
    "        self.speed += increment\n",
    "        print(f\"加速到速度 {self.speed} km/h。\")\n",
    "\n",
    "    # 成員方法，用於減速汽車\n",
    "    def brake(self, decrement):\n",
    "        self.speed -= decrement\n",
    "        print(f\"減速到速度 {self.speed} km/h。\")\n",
    "\n",
    "    # 成員方法，用於停止汽車\n",
    "    def stop(self):\n",
    "        self.speed = 0\n",
    "        print(f\"{self.year} {self.make} {self.model} 停止了。\")\n",
    "\n",
    "\n",
    "# 創建汽車的實例\n",
    "my_car = Car(\"Toyota\", \"Camry\", 2022)\n",
    "\n",
    "# 操作汽車\n",
    "my_car.start()          # 發動了。\n",
    "my_car.accelerate(40)   # 加速到速度 40 km/h。\n",
    "my_car.brake(10)        # 減速到速度 30 km/h。\n",
    "my_car.stop()           # 停止了。\n",
    "\n",
    "print(\"----------------\")\n",
    "\n",
    "# 創建汽車的實例\n",
    "my_car = Car(\"BMW\", \"X6\", 2022)\n",
    "\n",
    "# 操作汽車\n",
    "my_car.start()          # 發動了。\n",
    "my_car.accelerate(40)   # 加速到速度 40 km/h。\n",
    "my_car.brake(10)        # 減速到速度 30 km/h。\n",
    "my_car.stop()           # 停止了。"
   ]
  },
  {
   "cell_type": "code",
   "execution_count": 52,
   "metadata": {},
   "outputs": [
    {
     "data": {
      "text/plain": [
       "['__class__',\n",
       " '__delattr__',\n",
       " '__dict__',\n",
       " '__dir__',\n",
       " '__doc__',\n",
       " '__eq__',\n",
       " '__format__',\n",
       " '__ge__',\n",
       " '__getattribute__',\n",
       " '__gt__',\n",
       " '__hash__',\n",
       " '__init__',\n",
       " '__init_subclass__',\n",
       " '__le__',\n",
       " '__lt__',\n",
       " '__module__',\n",
       " '__ne__',\n",
       " '__new__',\n",
       " '__reduce__',\n",
       " '__reduce_ex__',\n",
       " '__repr__',\n",
       " '__setattr__',\n",
       " '__sizeof__',\n",
       " '__str__',\n",
       " '__subclasshook__',\n",
       " '__weakref__',\n",
       " 'accelerate',\n",
       " 'brake',\n",
       " 'start',\n",
       " 'stop']"
      ]
     },
     "execution_count": 52,
     "metadata": {},
     "output_type": "execute_result"
    }
   ],
   "source": [
    "# 確認類別內的屬性和方法\n",
    "\n",
    "dir(Car)"
   ]
  },
  {
   "cell_type": "markdown",
   "metadata": {},
   "source": [
    "## 繼承 (inheritance)"
   ]
  },
  {
   "cell_type": "code",
   "execution_count": 55,
   "metadata": {},
   "outputs": [
    {
     "name": "stdout",
     "output_type": "stream",
     "text": [
      "2022 Tesla Model S 電動車已啟動。\n",
      "加速到速度 50 km/h。\n",
      "充電中... 目前電池容量為 100 kWh。\n",
      "2022 Tesla Model S 停止了。\n"
     ]
    }
   ],
   "source": [
    "# 簡單來說：繼承就像是生活中，子女繼承父母的財產一樣。\n",
    "\n",
    "# 定義一個繼承自 Car 的子類別\n",
    "class ElectricCar(Car):\n",
    "    # 子類別可以擁有自己的屬性和方法\n",
    "    def __init__(self, make, model, year, battery_capacity):\n",
    "        # 使用 super() 調用父類別的初始化方法\n",
    "        super().__init__(make, model, year)\n",
    "        self.battery_capacity = battery_capacity\n",
    "\n",
    "    # 子類別可以覆寫父類別的方法，以實現不同的行為\n",
    "    def start(self):\n",
    "        print(f\"{self.year} {self.make} {self.model} 電動車已啟動。\")\n",
    "\n",
    "    # 子類別可以添加自己的方法\n",
    "    def charge(self):\n",
    "        print(f\"充電中... 目前電池容量為 {self.battery_capacity} kWh。\")\n",
    "\n",
    "\n",
    "# 創建一輛電動車的實例\n",
    "electric_car = ElectricCar(\"Tesla\", \"Model S\", 2022, 100)\n",
    "\n",
    "# 使用父類別的方法\n",
    "electric_car.start()          # 電動車已啟動。\n",
    "electric_car.accelerate(50)   # 加速到速度 50 km/h。\n",
    "\n",
    "# 使用子類別的方法\n",
    "electric_car.charge()         # 充電中... 目前電池容量為 100 kWh。\n",
    "\n",
    "# 使用父類別的方法\n",
    "electric_car.stop()           # 2022 Tesla Model S 停止了。\n",
    "\n"
   ]
  },
  {
   "cell_type": "code",
   "execution_count": null,
   "metadata": {},
   "outputs": [],
   "source": [
    "# 類別父類別 子類別\n",
    "# 定義一個基本的動物類別\n",
    "class Animal:\n",
    "    def __init__(self, name):\n",
    "        self.name = name\n",
    "\n",
    "    def speak(self):\n",
    "        pass\n",
    "\n",
    "# 定義一個子類別 Dog，它繼承自 Animal\n",
    "class Dog(Animal):\n",
    "    def speak(self):\n",
    "        return f\"{self.name} 汪汪汪！\"\n",
    "\n",
    "# 定義另一個子類別 Cat，也繼承自 Animal\n",
    "class Cat(Animal):\n",
    "    def speak(self):\n",
    "        return f\"{self.name} 喵喵喵！\"\n",
    "\n",
    "# 創建動物的實例\n",
    "dog = Dog(\"小狗\")\n",
    "cat = Cat(\"小貓\")\n",
    "\n",
    "# 調用子類別的方法\n",
    "print(dog.speak())  # 輸出：小狗 汪汪汪！\n",
    "print(cat.speak())  # 輸出：小貓 喵喵喵！\n"
   ]
  },
  {
   "cell_type": "markdown",
   "metadata": {},
   "source": [
    "## 封裝 (encapsulation)"
   ]
  },
  {
   "cell_type": "markdown",
   "metadata": {},
   "source": [
    "公開（public）：成員方法和屬性在預設情況下都是公開的，這意味著它們可以從類別的外部訪問。\n",
    "\n",
    "受保護（protected）：在成員方法或屬性的名稱前面加上一個單一底線 _ 表示受保護的，這意味著它們在類別的外部不能被直接訪問，但可以在子類別中訪問。\n",
    "\n",
    "私有（private）：在成員方法或屬性的名稱前面加上兩個底線 __ 表示私有的，這意味著它們在類別的外部不能被直接訪問，且無法在子類別中訪問。"
   ]
  },
  {
   "cell_type": "code",
   "execution_count": 70,
   "metadata": {},
   "outputs": [
    {
     "name": "stdout",
     "output_type": "stream",
     "text": [
      "車牌：Toyota Camry, 年份：2022\n",
      "2022 Toyota Camry 發動了。\n",
      "加速到速度 220 km/h。\n",
      "減速到速度 210 km/h。\n",
      "2022 Toyota Camry 停止了。\n"
     ]
    }
   ],
   "source": [
    "# 定義一個汽車類別\n",
    "class Car:\n",
    "    # 初始化方法，用於創建汽車的實例並設置初始屬性\n",
    "    def __init__(self, make, model, year):\n",
    "        self.__make = make  # 使用單一底線前綴表示屬性為受保護的\n",
    "        self.__model = model\n",
    "        self.__year = year\n",
    "        self.__speed = 0\n",
    "\n",
    "    # 使用屬性（property）來訪問屬性的值\n",
    "    @property\n",
    "    def make(self):\n",
    "        return self.__make\n",
    "\n",
    "    @property\n",
    "    def model(self):\n",
    "        return self.__model\n",
    "\n",
    "    @property\n",
    "    def year(self):\n",
    "        return self.__year\n",
    "\n",
    "    @property\n",
    "    def speed(self):\n",
    "        return self.__speed\n",
    "\n",
    "    # 使用屬性的setter方法來設置屬性的值\n",
    "    @speed.setter\n",
    "    def speed(self, value):\n",
    "        if value >= 0:\n",
    "            self.__speed = value\n",
    "        else:\n",
    "            print(\"速度不能為負數。\")\n",
    "\n",
    "    ## ------------------------------------------------------------------------------------------ ##\n",
    "\n",
    "    # 成員方法，用於啟動汽車\n",
    "    def start(self):\n",
    "        print(f\"{self.year} {self.make} {self.model} 發動了。\")\n",
    "\n",
    "    # 成員方法，用於加速汽車\n",
    "    def __accelerate(self, increment):\n",
    "        self.speed += increment\n",
    "        print(f\"加速到速度 {self.speed} km/h。\")\n",
    "\n",
    "    def accelerate(self, increment):\n",
    "        self.__accelerate(increment)\n",
    "\n",
    "    # 成員方法，用於減速汽車\n",
    "    def brake(self, decrement):\n",
    "        self.speed -= decrement\n",
    "        print(f\"減速到速度 {self.speed} km/h。\")\n",
    "\n",
    "    # 成員方法，用於停止汽車\n",
    "    def stop(self):\n",
    "        self.speed = 0\n",
    "        print(f\"{self.year} {self.make} {self.model} 停止了。\")\n",
    "\n",
    "if __name__ == \"__main__\":\n",
    "\n",
    "    # 創建汽車的實例\n",
    "    my_car = Car(\"Toyota\", \"Camry\", 2022)\n",
    "\n",
    "    # 直接呼叫車種 ( 會報錯，因為 model 已經被設定成私有變數 )\n",
    "    # print(my_car.__model)\n",
    "\n",
    "    # 使用屬性來訪問屬性的值\n",
    "    print(f\"車牌：{my_car.make} {my_car.model}, 年份：{my_car.year}\")\n",
    "\n",
    "    # 使用屬性的setter方法來設置屬性的值\n",
    "    my_car.speed = 200  # 設置初始速度為200\n",
    "\n",
    "    # 使用成員方法操作汽車\n",
    "    my_car.start() \n",
    "    my_car.accelerate(20)\n",
    "    my_car.brake(10)\n",
    "    my_car.stop()\n"
   ]
  },
  {
   "cell_type": "markdown",
   "metadata": {},
   "source": [
    "## 多型（Polymorphism）"
   ]
  },
  {
   "cell_type": "code",
   "execution_count": 71,
   "metadata": {},
   "outputs": [
    {
     "name": "stdout",
     "output_type": "stream",
     "text": [
      "2022 Toyota Camry 的聲音：噗噗噗！\n",
      "2022 Tesla Model S 的聲音：嗡嗡嗡！\n"
     ]
    }
   ],
   "source": [
    "# 定義一個基本的汽車類別\n",
    "class Car:\n",
    "    def __init__(self, make, model, year):\n",
    "        self.make = make\n",
    "        self.model = model\n",
    "        self.year = year\n",
    "\n",
    "    def start(self):\n",
    "        print(f\"{self.year} {self.make} {self.model} 發動了。\")\n",
    "\n",
    "    def sound(self):\n",
    "        pass\n",
    "\n",
    "# 定義子類別，繼承自 Car，表示燃油車\n",
    "class GasolineCar(Car):\n",
    "    def sound(self):\n",
    "        return \"噗噗噗！\"\n",
    "\n",
    "# 定義子類別，繼承自 Car，表示電動車\n",
    "class ElectricCar(Car):\n",
    "    def sound(self):\n",
    "        return \"嗡嗡嗡！\"\n",
    "\n",
    "# 定義一個函數，接受任何汽車對象，並播放它們的聲音\n",
    "def play_car_sound(car):\n",
    "    print(f\"{car.year} {car.make} {car.model} 的聲音：{car.sound()}\")\n",
    "\n",
    "# 創建不同類型的汽車實例\n",
    "gasoline_car = GasolineCar(\"Toyota\", \"Camry\", 2022)\n",
    "electric_car = ElectricCar(\"Tesla\", \"Model S\", 2022)\n",
    "\n",
    "# 使用統一的界面調用 play_car_sound 函數，播放不同類型汽車的聲音\n",
    "play_car_sound(gasoline_car)  # 輸出：2022 Toyota Camry 的聲音：噗噗噗！\n",
    "play_car_sound(electric_car)  # 輸出：2022 Tesla Model S 的聲音：嗡嗡嗡！\n"
   ]
  }
 ],
 "metadata": {
  "kernelspec": {
   "display_name": "Python 3",
   "language": "python",
   "name": "python3"
  },
  "language_info": {
   "codemirror_mode": {
    "name": "ipython",
    "version": 3
   },
   "file_extension": ".py",
   "mimetype": "text/x-python",
   "name": "python",
   "nbconvert_exporter": "python",
   "pygments_lexer": "ipython3",
   "version": "3.10.7"
  },
  "orig_nbformat": 4
 },
 "nbformat": 4,
 "nbformat_minor": 2
}
