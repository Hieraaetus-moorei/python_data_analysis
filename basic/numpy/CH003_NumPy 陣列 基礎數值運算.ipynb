{
 "cells": [
  {
   "cell_type": "markdown",
   "metadata": {},
   "source": [
    "# Ch03 Numpy 數值計算"
   ]
  },
  {
   "cell_type": "code",
   "execution_count": 1,
   "metadata": {},
   "outputs": [],
   "source": [
    "import numpy as np"
   ]
  },
  {
   "cell_type": "code",
   "execution_count": 3,
   "metadata": {},
   "outputs": [
    {
     "data": {
      "text/plain": [
       "'1.23.5'"
      ]
     },
     "execution_count": 3,
     "metadata": {},
     "output_type": "execute_result"
    }
   ],
   "source": [
    "# 版本確認\n",
    "np.__version__"
   ]
  },
  {
   "cell_type": "markdown",
   "metadata": {},
   "source": [
    "### Python List vs. NumPy Array 運算效能比較\n"
   ]
  },
  {
   "cell_type": "code",
   "execution_count": 4,
   "metadata": {},
   "outputs": [
    {
     "name": "stdout",
     "output_type": "stream",
     "text": [
      "With just Python:  0.69s\n",
      "With NumPy:  0.06s\n"
     ]
    }
   ],
   "source": [
    "# 計時測試，看 list 與 array 做出 0-9999999 所需時間差異\n",
    "\n",
    "import numpy as np\n",
    "import time\n",
    "\n",
    "l1 = list(range(10000000))\n",
    "l2 = list(range(10000000))\n",
    "sum = []\n",
    "\n",
    "then = time.time()\n",
    "# list 直接相加，會變成後者 append 至前者\n",
    "for i in range(len(l1)):\n",
    "\tsum.append(l1[i] + l2[i])\n",
    "\n",
    "print(f\"With just Python: {time.time() - then: .2f}s\")\n",
    "\n",
    "arr1 = np.array(l1)\n",
    "arr2 = np.array(l2)\n",
    "\n",
    "then = time.time()\n",
    "sum = arr1 + arr2\n",
    "print(f\"With NumPy: {time.time() - then: .2f}s\")"
   ]
  },
  {
   "cell_type": "markdown",
   "metadata": {},
   "source": [
    "### NumPy 迴圈操作和向量操作 數值運算效能比較\n"
   ]
  },
  {
   "cell_type": "markdown",
   "metadata": {},
   "source": [
    "#### 迴圈操作"
   ]
  },
  {
   "cell_type": "code",
   "execution_count": 6,
   "metadata": {},
   "outputs": [],
   "source": [
    "# 定義陣列元素取倒數輸出函式\n",
    "def compute_reciprocals(values):\n",
    "    output = np.empty(len(values))\n",
    "    for i in range(len(values)):\n",
    "        output[i] = 1.0 / values[i]\n",
    "    return output"
   ]
  },
  {
   "cell_type": "code",
   "execution_count": 7,
   "metadata": {},
   "outputs": [
    {
     "data": {
      "text/plain": [
       "array([0.11111111, 0.33333333, 0.11111111, 0.16666667, 0.2       ])"
      ]
     },
     "execution_count": 7,
     "metadata": {},
     "output_type": "execute_result"
    }
   ],
   "source": [
    "# values random array\n",
    "values = np.random.randint(1, 10, size=5)\n",
    "compute_reciprocals(values)"
   ]
  },
  {
   "cell_type": "code",
   "execution_count": 8,
   "metadata": {},
   "outputs": [
    {
     "name": "stdout",
     "output_type": "stream",
     "text": [
      "4.26 μs ± 17.9 ns per loop (mean ± std. dev. of 7 runs, 100,000 loops each)\n"
     ]
    }
   ],
   "source": [
    "%timeit compute_reciprocals(values)"
   ]
  },
  {
   "cell_type": "markdown",
   "metadata": {},
   "source": [
    "#### 向量操作\n",
    "_vector 效能完勝_"
   ]
  },
  {
   "cell_type": "code",
   "execution_count": 9,
   "metadata": {},
   "outputs": [
    {
     "data": {
      "text/plain": [
       "array([0.11111111, 0.33333333, 0.11111111, 0.16666667, 0.2       ])"
      ]
     },
     "execution_count": 9,
     "metadata": {},
     "output_type": "execute_result"
    }
   ],
   "source": [
    "1.0 / values"
   ]
  },
  {
   "cell_type": "code",
   "execution_count": 10,
   "metadata": {},
   "outputs": [
    {
     "name": "stdout",
     "output_type": "stream",
     "text": [
      "544 ns ± 2.06 ns per loop (mean ± std. dev. of 7 runs, 1,000,000 loops each)\n"
     ]
    }
   ],
   "source": [
    "%timeit (1.0 / values)"
   ]
  },
  {
   "cell_type": "markdown",
   "metadata": {},
   "source": [
    "## 向量運算 \n",
    "_同 R，四則運算、次方直接做即可，vector 每個分量同步影響_"
   ]
  },
  {
   "cell_type": "code",
   "execution_count": 12,
   "metadata": {},
   "outputs": [
    {
     "data": {
      "text/plain": [
       "array([ 0,  5, 10, 15, 20, 25, 30])"
      ]
     },
     "execution_count": 12,
     "metadata": {},
     "output_type": "execute_result"
    }
   ],
   "source": [
    "# 長度放大\n",
    "ar = np.arange(0, 7) * 5; ar"
   ]
  },
  {
   "cell_type": "code",
   "execution_count": 13,
   "metadata": {},
   "outputs": [
    {
     "data": {
      "text/plain": [
       "array([  0,   1,  16,  81, 256])"
      ]
     },
     "execution_count": 13,
     "metadata": {},
     "output_type": "execute_result"
    }
   ],
   "source": [
    "# 平方\n",
    "ar = np.arange(5) ** 4 ; ar"
   ]
  },
  {
   "cell_type": "code",
   "execution_count": 14,
   "metadata": {},
   "outputs": [
    {
     "data": {
      "text/plain": [
       "array([0.        , 1.        , 1.41421356, 1.73205081, 2.        ])"
      ]
     },
     "execution_count": 14,
     "metadata": {},
     "output_type": "execute_result"
    }
   ],
   "source": [
    "# 開平方根\n",
    "ar = np.arange(5) ** 0.5 ; ar"
   ]
  },
  {
   "cell_type": "code",
   "execution_count": 15,
   "metadata": {},
   "outputs": [
    {
     "data": {
      "text/plain": [
       "array([3, 4, 5, 6])"
      ]
     },
     "execution_count": 15,
     "metadata": {},
     "output_type": "execute_result"
    }
   ],
   "source": [
    "# 平移 \n",
    "ar = 3 + np.arange(4); ar"
   ]
  },
  {
   "cell_type": "markdown",
   "metadata": {},
   "source": [
    "#### Element-wise expression\n",
    "_長度相等的向量做運算時，每項各自與對應者運算_"
   ]
  },
  {
   "cell_type": "code",
   "execution_count": 17,
   "metadata": {},
   "outputs": [
    {
     "data": {
      "text/plain": [
       "array([11, 22, 33, 44])"
      ]
     },
     "execution_count": 17,
     "metadata": {},
     "output_type": "execute_result"
    }
   ],
   "source": [
    "# 1D Array\n",
    "\n",
    "arr_1 = np.array([1, 2, 3, 4])\n",
    "arr_2 = np.array([10, 20 , 30, 40])\n",
    "\n",
    "arr_1 + arr_2 # [1 + 10, 2 + 20, 3 + 30, 4 + 40]\n"
   ]
  },
  {
   "cell_type": "code",
   "execution_count": 18,
   "metadata": {},
   "outputs": [
    {
     "data": {
      "text/plain": [
       "array([ 10,  40,  90, 160])"
      ]
     },
     "execution_count": 18,
     "metadata": {},
     "output_type": "execute_result"
    }
   ],
   "source": [
    "arr_1 * arr_2"
   ]
  },
  {
   "cell_type": "code",
   "execution_count": 19,
   "metadata": {},
   "outputs": [
    {
     "data": {
      "text/plain": [
       "array([0.1, 0.1, 0.1, 0.1])"
      ]
     },
     "execution_count": 19,
     "metadata": {},
     "output_type": "execute_result"
    }
   ],
   "source": [
    "arr_1 / arr_2"
   ]
  },
  {
   "cell_type": "markdown",
   "metadata": {},
   "source": [
    "#### 維度相同者，運算規則比照長度辦理\n",
    "_對應項目相加減乘除_"
   ]
  },
  {
   "cell_type": "code",
   "execution_count": 20,
   "metadata": {},
   "outputs": [],
   "source": [
    "# 2D Array\n",
    "arr = np.array([[1, 2], [3, 2]])\n",
    "arr2 = np.array([[1, 6], [7, 8]])"
   ]
  },
  {
   "cell_type": "code",
   "execution_count": 21,
   "metadata": {},
   "outputs": [
    {
     "data": {
      "text/plain": [
       "array([[ 1, 12],\n",
       "       [21, 16]])"
      ]
     },
     "execution_count": 21,
     "metadata": {},
     "output_type": "execute_result"
    }
   ],
   "source": [
    "arr * arr2"
   ]
  },
  {
   "cell_type": "code",
   "execution_count": 75,
   "metadata": {},
   "outputs": [
    {
     "data": {
      "text/plain": [
       "array([[False,  True],\n",
       "       [ True,  True]])"
      ]
     },
     "execution_count": 75,
     "metadata": {},
     "output_type": "execute_result"
    }
   ],
   "source": [
    "# Comparison operations\n",
    "# 產 masking array (True / false)\n",
    "arr < arr2"
   ]
  },
  {
   "cell_type": "code",
   "execution_count": 22,
   "metadata": {},
   "outputs": [
    {
     "data": {
      "text/plain": [
       "array([[False,  True],\n",
       "       [ True,  True]])"
      ]
     },
     "execution_count": 22,
     "metadata": {},
     "output_type": "execute_result"
    }
   ],
   "source": [
    "arr != arr2"
   ]
  },
  {
   "cell_type": "markdown",
   "metadata": {},
   "source": [
    "#### 向量內積, 外積"
   ]
  },
  {
   "cell_type": "code",
   "execution_count": 25,
   "metadata": {},
   "outputs": [
    {
     "data": {
      "text/plain": [
       "np.int64(48)"
      ]
     },
     "execution_count": 25,
     "metadata": {},
     "output_type": "execute_result"
    }
   ],
   "source": [
    "# 向量內積 - 1D array (向量)\n",
    "'''\n",
    "內積在機器學習的領域，是很重要的概念，\n",
    "無論是取得向量特徵，或是向量間的關係，\n",
    "內積都扮演重要的角色\n",
    "\n",
    "numpy.dot(a, b, /)\n",
    "\n",
    "其它還有 \n",
    "numpy.cross 叉積\n",
    "numpy.outer 外積\n",
    "可以自行嘗試\n",
    "'''\n",
    "arr1 = np.array([4, 5, 1, 3, 4])\n",
    "arr2 = np.array([2, 3, 5, 4, 2])\n",
    "\n",
    "'''\n",
    "計算過程:\n",
    "4*5 + 5*3 + 1*5 + 3*4 + 4*2 = 48\n",
    "'''\n",
    "\n",
    "inner_product = np.dot(arr1, arr2); inner_product\n"
   ]
  },
  {
   "cell_type": "markdown",
   "metadata": {},
   "source": [
    "矩陣乘法運算，就是線性代數的乘法，以下圖為例:\n",
    "\n",
    "![矩陣乘法運算](https://i.imgur.com/ItbwvTp.png)\n",
    "\n",
    "計算過程:\n",
    "![計算矩陣相乘](https://i.imgur.com/rOfh8yi.png)\n",
    "\n",
    "參考資料: [线性代数基础——矩阵和矩阵的乘法](https://zhuanlan.zhihu.com/p/158776486)"
   ]
  },
  {
   "cell_type": "code",
   "execution_count": 26,
   "metadata": {},
   "outputs": [
    {
     "data": {
      "text/plain": [
       "array([[4, 1],\n",
       "       [2, 2]])"
      ]
     },
     "execution_count": 26,
     "metadata": {},
     "output_type": "execute_result"
    }
   ],
   "source": [
    "# 向量內積 - 2D array (矩陣)\n",
    "\n",
    "arr1 = np.array([[1, 0],[0, 1]])\n",
    "arr2 = np.array([[4, 1],[2, 2]])\n",
    "\n",
    "'''\n",
    "計算過程 = 矩陣乘法 (pair-wise expression)\n",
    "'''\n",
    "inner_product = np.dot(arr1, arr2); inner_product"
   ]
  },
  {
   "cell_type": "markdown",
   "metadata": {},
   "source": [
    "#### Outer product $\\neq$ cross product (外積)\n",
    "outer product: vectors 張成的張量 (tensor)"
   ]
  },
  {
   "cell_type": "code",
   "execution_count": 29,
   "metadata": {},
   "outputs": [
    {
     "data": {
      "text/plain": [
       "array([['a', 'aa', 'aaa'],\n",
       "       ['b', 'bb', 'bbb'],\n",
       "       ['c', 'cc', 'ccc']], dtype=object)"
      ]
     },
     "execution_count": 29,
     "metadata": {},
     "output_type": "execute_result"
    }
   ],
   "source": [
    "# Outer product - 1D array (向量) as 通式\n",
    "arr1 = np.array(['a', 'b', 'c'], dtype = object)\n",
    "np.outer(arr1,[1, 2, 3])"
   ]
  },
  {
   "cell_type": "code",
   "execution_count": 30,
   "metadata": {},
   "outputs": [
    {
     "data": {
      "text/plain": [
       "array([[ 4,  5,  6],\n",
       "       [ 8, 10, 12],\n",
       "       [12, 15, 18]])"
      ]
     },
     "execution_count": 30,
     "metadata": {},
     "output_type": "execute_result"
    }
   ],
   "source": [
    "# Outer product - 1D array (向量)\n",
    "arr1 = np.array([1, 2, 3])\n",
    "arr2 = np.array([4, 5, 6])\n",
    "\n",
    "outer_product = np.outer(arr1, arr2); outer_product\n",
    "\n"
   ]
  },
  {
   "cell_type": "code",
   "execution_count": 31,
   "metadata": {},
   "outputs": [
    {
     "data": {
      "text/plain": [
       "array([['a', 'aa', 'aaa', 'aaaa'],\n",
       "       ['b', 'bb', 'bbb', 'bbbb'],\n",
       "       ['c', 'cc', 'ccc', 'cccc'],\n",
       "       ['d', 'dd', 'ddd', 'dddd']], dtype=object)"
      ]
     },
     "execution_count": 31,
     "metadata": {},
     "output_type": "execute_result"
    }
   ],
   "source": [
    "# Outer product - 2D array (向量) as 通式\n",
    "arr1 = np.array([['a', 'b'], ['c', 'd']], dtype = object)\n",
    "np.outer(arr1, [[1, 2], [3, 4]])"
   ]
  },
  {
   "cell_type": "code",
   "execution_count": 86,
   "metadata": {},
   "outputs": [
    {
     "data": {
      "text/plain": [
       "array([[ 10,  20,  30,  40],\n",
       "       [ 20,  40,  60,  80],\n",
       "       [ 30,  60,  90, 120],\n",
       "       [ 40,  80, 120, 160]])"
      ]
     },
     "execution_count": 86,
     "metadata": {},
     "output_type": "execute_result"
    }
   ],
   "source": [
    "# Outer product - 2D array (矩陣)\n",
    "arr1 = np.array([[1, 2], [3, 4]])\n",
    "arr2 = np.array([[10, 20], [30, 40]])\n",
    "\n",
    "outer_product = np.outer(arr1, arr2); outer_product"
   ]
  },
  {
   "cell_type": "markdown",
   "metadata": {},
   "source": [
    "## 數學運算函式\n",
    "* `.sum()`: vector 或 matrix 內所有數字加總 _可另用 axis 決定做 row sum 或 column sum_\n",
    "* `.prod()`: 同上，改相乘\n",
    "* `.diff()`: 同上，改後項減前項"
   ]
  },
  {
   "cell_type": "code",
   "execution_count": 32,
   "metadata": {},
   "outputs": [
    {
     "data": {
      "text/plain": [
       "np.int64(10)"
      ]
     },
     "execution_count": 32,
     "metadata": {},
     "output_type": "execute_result"
    }
   ],
   "source": [
    "arr = np.sum([1, 2, 3, 4])\n",
    "\n",
    "# 一維陣列的「和」 (加總)\n",
    "np.sum(arr)"
   ]
  },
  {
   "cell_type": "code",
   "execution_count": 35,
   "metadata": {},
   "outputs": [
    {
     "data": {
      "text/plain": [
       "np.int64(12228)"
      ]
     },
     "execution_count": 35,
     "metadata": {},
     "output_type": "execute_result"
    }
   ],
   "source": [
    "arr_2 = np.sum([[1, 100], [12123, 4]])\n",
    "\n",
    "# 二維陣列的「和」 (加總)\n",
    "np.sum(arr_2)"
   ]
  },
  {
   "cell_type": "markdown",
   "metadata": {},
   "source": [
    "軸 (axis) 的概念\n",
    "![軸 (axis) 的概念](https://i.imgur.com/u7ItSQZ.png)\n",
    "\n",
    "參考資料: [Numpy Axes, Explained](https://youtu.be/aF96TC_6kDg)"
   ]
  },
  {
   "cell_type": "code",
   "execution_count": 36,
   "metadata": {},
   "outputs": [
    {
     "data": {
      "text/plain": [
       "array([ 9, 12])"
      ]
     },
     "execution_count": 36,
     "metadata": {},
     "output_type": "execute_result"
    }
   ],
   "source": [
    "# 二維陣列的「和」，指定軸 (axis) 來計算\n",
    "'''\n",
    "[\n",
    "    [1, 2], \n",
    "    [3, 4], \n",
    "    [5, 6]\n",
    "]\n",
    "\n",
    "axis = None: \n",
    "- 所有元素，不分列 (row) 或行 (column)。預設值。\n",
    "axis = 0:\n",
    "- 順著 [0][0], [1][0], [2][0], ... 等索引號碼增加的方向\n",
    "- 類似座標的 y 軸，針對每一個元素 y 軸對應的位置 (由上而下) 進行計算\n",
    "axis = 1: \n",
    "- 順著 [0][0], [0][1], [0][2], ... 等索引號碼增加的方向\n",
    "- 類似座標的 x 軸，針對每一個元素 x 軸對應的位置 (由左而右) 進行計算\n",
    "'''\n",
    "# 可用 axis 調整加總方式、方向\n",
    "np.sum([[1, 2], [3, 4], [5, 6]], axis = 0) # [1+3+5, 2+4+6]"
   ]
  },
  {
   "cell_type": "markdown",
   "metadata": {},
   "source": [
    "### 降維函式"
   ]
  },
  {
   "cell_type": "code",
   "execution_count": 90,
   "metadata": {},
   "outputs": [
    {
     "data": {
      "text/plain": [
       "24"
      ]
     },
     "execution_count": 90,
     "metadata": {},
     "output_type": "execute_result"
    }
   ],
   "source": [
    "# 一維陣列的「乘積」\n",
    "\n",
    "np.prod([1, 2, 3, 4])"
   ]
  },
  {
   "cell_type": "code",
   "execution_count": 37,
   "metadata": {},
   "outputs": [
    {
     "data": {
      "text/plain": [
       "np.int64(600)"
      ]
     },
     "execution_count": 37,
     "metadata": {},
     "output_type": "execute_result"
    }
   ],
   "source": [
    "# 二維陣列的「乘積」\n",
    "np.prod([[1, 5], [30, 4]])\n"
   ]
  },
  {
   "cell_type": "code",
   "execution_count": 39,
   "metadata": {},
   "outputs": [
    {
     "data": {
      "text/plain": [
       "array([ 2, 12, 30])"
      ]
     },
     "execution_count": 39,
     "metadata": {},
     "output_type": "execute_result"
    }
   ],
   "source": [
    "# 二維陣列的「乘積」，指定軸 (axis) 來計算\n",
    "'''\n",
    "[\n",
    "    [1,2], \n",
    "    [3,4], \n",
    "    [5,6]\n",
    "]\n",
    "\n",
    "axis = None: \n",
    "- 所有元素，不分列 (row) 或行 (column)。預設值。\n",
    "axis = 0:\n",
    "- 順著 [0][0], [1][0], [2][0], ... 等索引號碼增加的方向\n",
    "- 類似座標的 y 軸，針對每一個元素 y 軸對應的位置 (由上而下) 進行計算\n",
    "axis = 1: \n",
    "- 順著 [0][0], [0][1], [0][2], ... 等索引號碼增加的方向\n",
    "- 類似座標的 x 軸，針對每一個元素 x 軸對應的位置 (由左而右) 進行計算\n",
    "'''\n",
    "# 沿 axis 1 (x 軸)算\n",
    "np.prod([[1,2], [3,4], [5,6]], axis = 1)"
   ]
  },
  {
   "cell_type": "markdown",
   "metadata": {},
   "source": [
    "### 差值函式"
   ]
  },
  {
   "cell_type": "code",
   "execution_count": 41,
   "metadata": {},
   "outputs": [
    {
     "data": {
      "text/plain": [
       "array([-2, -2,  0,  6, -3,  1])"
      ]
     },
     "execution_count": 41,
     "metadata": {},
     "output_type": "execute_result"
    }
   ],
   "source": [
    "# 一維陣列的「差」(後一個元素的值，減去前一個元素的值)\n",
    "'''\n",
    "numpy.diff(a, n=1, axis=-1, prepend=<no value>, append=<no value>)\n",
    "default axis = -1: 沿 x 軸往原點相減 (i.e. 後項減前項)\n",
    "'''\n",
    "x = np.array([7, 5, 3, 3, 9, 6, 7])\n",
    "np.diff(x)"
   ]
  },
  {
   "cell_type": "code",
   "execution_count": 49,
   "metadata": {},
   "outputs": [
    {
     "data": {
      "text/plain": [
       "array([ 0,  2,  6, -9,  4])"
      ]
     },
     "execution_count": 49,
     "metadata": {},
     "output_type": "execute_result"
    }
   ],
   "source": [
    "# 一維陣列的「差」(指定 n，代表 diff 幾次)\n",
    "np.diff(x, n = 2) # f''，後項減前項得 vector，再對該 vector 做一次 diff\n",
    "# 等同 np.diff(np.diff(x))\n"
   ]
  },
  {
   "cell_type": "code",
   "execution_count": 52,
   "metadata": {},
   "outputs": [
    {
     "name": "stdout",
     "output_type": "stream",
     "text": [
      "[[ 1  2]\n",
      " [ 3 12]\n",
      " [ 5 10]]\n"
     ]
    },
    {
     "data": {
      "text/plain": [
       "array([[ 2, 10],\n",
       "       [ 2, -2]])"
      ]
     },
     "execution_count": 52,
     "metadata": {},
     "output_type": "execute_result"
    }
   ],
   "source": [
    "# 二維陣列的「差」，指定軸 (axis) 來計算\n",
    "'''\n",
    "[\n",
    "    [1,2], \n",
    "    [3,4], \n",
    "    [5,6]\n",
    "]\n",
    "\n",
    "axis = None: \n",
    "- 所有元素，不分列 (row) 或行 (column)。預設值。\n",
    "axis = 0:\n",
    "- 順著 [0][0], [1][0], [2][0], ... 等索引號碼增加的方向\n",
    "- 類似座標的 y 軸，針對每一個元素 y 軸對應的位置 (由上而下) 進行計算\n",
    "axis = 1: \n",
    "- 順著 [0][0], [0][1], [0][2], ... 等索引號碼增加的方向\n",
    "- 類似座標的 x 軸，針對每一個元素 x 軸對應的位置 (由左而右) 進行計算\n",
    "'''\n",
    "x = np.array([[1, 2], [3, 12], [5, 10]])\n",
    "print(x)\n",
    "# 沿 axis 0 (y 軸)做 diff，i.e. 下減上\n",
    "np.diff(x, axis = 0)"
   ]
  },
  {
   "cell_type": "markdown",
   "metadata": {},
   "source": [
    "### 捨去函式"
   ]
  },
  {
   "cell_type": "code",
   "execution_count": 54,
   "metadata": {},
   "outputs": [
    {
     "data": {
      "text/plain": [
       "array([0.4, 1.8])"
      ]
     },
     "execution_count": 54,
     "metadata": {},
     "output_type": "execute_result"
    }
   ],
   "source": [
    "# around(): 四捨五入到最近的「偶數值」\n",
    "'''\n",
    "numpy.around(被 around 者, decimals=0, out=None)\n",
    "\n",
    "decimals: 指定小數位數 (小數點後面第幾位)，0 位開始\n",
    "'''\n",
    "np.around([0.45, 1.85], 1)"
   ]
  },
  {
   "cell_type": "code",
   "execution_count": 103,
   "metadata": {},
   "outputs": [
    {
     "data": {
      "text/plain": [
       "array([2., 2., 2., 3.])"
      ]
     },
     "execution_count": 103,
     "metadata": {},
     "output_type": "execute_result"
    }
   ],
   "source": [
    "# rint(): 回傳最近的整數 (四捨五入到最近的「偶數值」)\n",
    "np.rint([1.5, 2.5, 1.6, 3.3])"
   ]
  },
  {
   "cell_type": "code",
   "execution_count": 55,
   "metadata": {},
   "outputs": [
    {
     "data": {
      "text/plain": [
       "array([1., 2., 1., 3.])"
      ]
     },
     "execution_count": 55,
     "metadata": {},
     "output_type": "execute_result"
    }
   ],
   "source": [
    "# floor(): 無條件捨去\n",
    "np.floor([1.5, 2.5, 1.6, 3.333])"
   ]
  },
  {
   "cell_type": "code",
   "execution_count": 56,
   "metadata": {},
   "outputs": [
    {
     "data": {
      "text/plain": [
       "array([2., 3., 2., 4.])"
      ]
     },
     "execution_count": 56,
     "metadata": {},
     "output_type": "execute_result"
    }
   ],
   "source": [
    "# ceil(): 無條件進位\n",
    "np.ceil([1.1, 2.5, 1.6, 3.3])\n"
   ]
  },
  {
   "cell_type": "markdown",
   "metadata": {},
   "source": [
    "### 乘積函式"
   ]
  },
  {
   "cell_type": "code",
   "execution_count": 111,
   "metadata": {},
   "outputs": [
    {
     "data": {
      "text/plain": [
       "array([[ 10,  40],\n",
       "       [ 90, 160]])"
      ]
     },
     "execution_count": 111,
     "metadata": {},
     "output_type": "execute_result"
    }
   ],
   "source": [
    "# 等價 arr1 * arr2\n",
    "arr1 = np.array([[1, 2],[3, 4]])\n",
    "arr2 = np.array([[10, 20],[30, 40]])\n",
    "\n",
    "np.multiply(arr1,arr2)"
   ]
  },
  {
   "cell_type": "markdown",
   "metadata": {},
   "source": [
    "### 指數 & 對數 函式\n",
    "* exponential\n",
    "    * `.exp()`: euler number 的幾次方\n",
    "    * `.exp${num}()`: 指定數字，i.e. 某數的幾次方\n",
    "* logarithm\n",
    "    * `.log()`: natural log\n",
    "    * `.log${num}()`: 指定底數算對數    "
   ]
  },
  {
   "cell_type": "code",
   "execution_count": 57,
   "metadata": {},
   "outputs": [
    {
     "data": {
      "text/plain": [
       "array([ 2.71828183,  7.3890561 , 20.08553692, 54.59815003])"
      ]
     },
     "execution_count": 57,
     "metadata": {},
     "output_type": "execute_result"
    }
   ],
   "source": [
    "# exp(): 自然對數 e 的幾次方\n",
    "'''\n",
    "e^1 = 2.71828183\n",
    "e^2 = 7.3890561\n",
    "e^3 = 20.08553692\n",
    "e^4 = 54.59815003\n",
    ".\n",
    ".\n",
    "\n",
    "'''\n",
    "np.exp([1, 2, 3, 4])"
   ]
  },
  {
   "cell_type": "code",
   "execution_count": 58,
   "metadata": {},
   "outputs": [
    {
     "data": {
      "text/plain": [
       "array([ 2.,  4.,  8., 16.])"
      ]
     },
     "execution_count": 58,
     "metadata": {},
     "output_type": "execute_result"
    }
   ],
   "source": [
    "# exp2(): 2 的幾次方\n",
    "np.exp2([1, 2, 3, 4])"
   ]
  },
  {
   "cell_type": "code",
   "execution_count": 59,
   "metadata": {},
   "outputs": [
    {
     "data": {
      "text/plain": [
       "array([0., 1., 2.])"
      ]
     },
     "execution_count": 59,
     "metadata": {},
     "output_type": "execute_result"
    }
   ],
   "source": [
    "# log(): 計算自然對數的值\n",
    "'''\n",
    "np.e = 自然對數\n",
    "\n",
    "註: \n",
    "log(1) = 0 (任何數的 0 次方，等於 1)\n",
    "log(e) = 1\n",
    "log(e^2) = 2\n",
    "'''\n",
    "np.log([1, np.e, np.e ** 2])"
   ]
  },
  {
   "cell_type": "code",
   "execution_count": 60,
   "metadata": {},
   "outputs": [
    {
     "data": {
      "text/plain": [
       "array([0., 1., 2., 3.])"
      ]
     },
     "execution_count": 60,
     "metadata": {},
     "output_type": "execute_result"
    }
   ],
   "source": [
    "# log2(): 計算以 2 為底的值\n",
    "np.log2([1, 2, 4, 8])"
   ]
  },
  {
   "cell_type": "code",
   "execution_count": 61,
   "metadata": {},
   "outputs": [
    {
     "data": {
      "text/plain": [
       "array([0., 1., 2., 3.])"
      ]
     },
     "execution_count": 61,
     "metadata": {},
     "output_type": "execute_result"
    }
   ],
   "source": [
    "# log10(): 計算以 10 為底的值\n",
    "np.log10([1, 10, 100, 1000])"
   ]
  },
  {
   "cell_type": "markdown",
   "metadata": {},
   "source": [
    "### Others\n",
    "* `.absolute()`: get absolute value\n",
    "* `.square()`: 取平方\n",
    "* `.sqrt()`: 開根號"
   ]
  },
  {
   "cell_type": "code",
   "execution_count": 118,
   "metadata": {},
   "outputs": [
    {
     "data": {
      "text/plain": [
       "array([3, 3])"
      ]
     },
     "execution_count": 118,
     "metadata": {},
     "output_type": "execute_result"
    }
   ],
   "source": [
    "# absolute(): 回傳絕對值\n",
    "np.absolute([-3, 3])"
   ]
  },
  {
   "cell_type": "code",
   "execution_count": 119,
   "metadata": {},
   "outputs": [
    {
     "data": {
      "text/plain": [
       "array([16, 81])"
      ]
     },
     "execution_count": 119,
     "metadata": {},
     "output_type": "execute_result"
    }
   ],
   "source": [
    "# square(): 回傳平方值\n",
    "np.square([4, 9])"
   ]
  },
  {
   "cell_type": "code",
   "execution_count": 120,
   "metadata": {},
   "outputs": [
    {
     "data": {
      "text/plain": [
       "array([2., 3.])"
      ]
     },
     "execution_count": 120,
     "metadata": {},
     "output_type": "execute_result"
    }
   ],
   "source": [
    "# sqrt(): 回傳平方根\n",
    "np.sqrt([4, 9])"
   ]
  }
 ],
 "metadata": {
  "kernelspec": {
   "display_name": "Python 3",
   "language": "python",
   "name": "python3"
  },
  "language_info": {
   "codemirror_mode": {
    "name": "ipython",
    "version": 3
   },
   "file_extension": ".py",
   "mimetype": "text/x-python",
   "name": "python",
   "nbconvert_exporter": "python",
   "pygments_lexer": "ipython3",
   "version": "3.13.0"
  },
  "orig_nbformat": 4
 },
 "nbformat": 4,
 "nbformat_minor": 2
}
