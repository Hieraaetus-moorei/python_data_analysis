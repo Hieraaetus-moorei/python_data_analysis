{
 "cells": [
  {
   "cell_type": "markdown",
   "metadata": {},
   "source": [
    "# Ch05-2 Pandas DataFrame 時間序列"
   ]
  },
  {
   "cell_type": "markdown",
   "metadata": {},
   "source": [
    "# Outline\n",
    "\n",
    "1. Indexing Time Series\n",
    "2. Resampling Time Series Data\n",
    "3. Manipulating Time Series Data\n",
    "4. Time Series Visualization\n"
   ]
  },
  {
   "cell_type": "code",
   "execution_count": 287,
   "metadata": {},
   "outputs": [],
   "source": [
    "import warnings\n",
    "warnings.filterwarnings('ignore')\n",
    "\n",
    "import pandas as pd\n",
    "import matplotlib.pyplot as plt\n",
    "\n",
    "\n",
    "\n",
    "## if use google colab, then can use the following code to upload the file\n",
    "\n",
    "# from google.colab import files\n",
    "# uploaded = files.upload()\n",
    "\n",
    "# import io \n",
    "# Titanics_data = pd.read_csv(io.BytesIO(uploaded['titanic.csv']))\n"
   ]
  },
  {
   "cell_type": "code",
   "execution_count": 288,
   "metadata": {},
   "outputs": [],
   "source": [
    "Titanic_data = pd.read_csv(\"./titanic.csv\")"
   ]
  },
  {
   "cell_type": "code",
   "execution_count": 289,
   "metadata": {},
   "outputs": [
    {
     "data": {
      "text/html": [
       "<div>\n",
       "<style scoped>\n",
       "    .dataframe tbody tr th:only-of-type {\n",
       "        vertical-align: middle;\n",
       "    }\n",
       "\n",
       "    .dataframe tbody tr th {\n",
       "        vertical-align: top;\n",
       "    }\n",
       "\n",
       "    .dataframe thead th {\n",
       "        text-align: right;\n",
       "    }\n",
       "</style>\n",
       "<table border=\"1\" class=\"dataframe\">\n",
       "  <thead>\n",
       "    <tr style=\"text-align: right;\">\n",
       "      <th></th>\n",
       "      <th>PassengerId</th>\n",
       "      <th>Survived</th>\n",
       "      <th>Pclass</th>\n",
       "      <th>Name</th>\n",
       "      <th>Sex</th>\n",
       "      <th>Age</th>\n",
       "      <th>SibSp</th>\n",
       "      <th>Parch</th>\n",
       "      <th>Ticket</th>\n",
       "      <th>Fare</th>\n",
       "      <th>Cabin</th>\n",
       "      <th>Embarked</th>\n",
       "    </tr>\n",
       "  </thead>\n",
       "  <tbody>\n",
       "    <tr>\n",
       "      <th>0</th>\n",
       "      <td>1</td>\n",
       "      <td>0</td>\n",
       "      <td>3</td>\n",
       "      <td>Braund, Mr. Owen Harris</td>\n",
       "      <td>male</td>\n",
       "      <td>22.0</td>\n",
       "      <td>1</td>\n",
       "      <td>0</td>\n",
       "      <td>A/5 21171</td>\n",
       "      <td>7.2500</td>\n",
       "      <td>NaN</td>\n",
       "      <td>S</td>\n",
       "    </tr>\n",
       "    <tr>\n",
       "      <th>1</th>\n",
       "      <td>2</td>\n",
       "      <td>1</td>\n",
       "      <td>1</td>\n",
       "      <td>Cumings, Mrs. John Bradley (Florence Briggs Th...</td>\n",
       "      <td>female</td>\n",
       "      <td>38.0</td>\n",
       "      <td>1</td>\n",
       "      <td>0</td>\n",
       "      <td>PC 17599</td>\n",
       "      <td>71.2833</td>\n",
       "      <td>C85</td>\n",
       "      <td>C</td>\n",
       "    </tr>\n",
       "    <tr>\n",
       "      <th>2</th>\n",
       "      <td>3</td>\n",
       "      <td>1</td>\n",
       "      <td>3</td>\n",
       "      <td>Heikkinen, Miss. Laina</td>\n",
       "      <td>female</td>\n",
       "      <td>26.0</td>\n",
       "      <td>0</td>\n",
       "      <td>0</td>\n",
       "      <td>STON/O2. 3101282</td>\n",
       "      <td>7.9250</td>\n",
       "      <td>NaN</td>\n",
       "      <td>S</td>\n",
       "    </tr>\n",
       "    <tr>\n",
       "      <th>3</th>\n",
       "      <td>4</td>\n",
       "      <td>1</td>\n",
       "      <td>1</td>\n",
       "      <td>Futrelle, Mrs. Jacques Heath (Lily May Peel)</td>\n",
       "      <td>female</td>\n",
       "      <td>35.0</td>\n",
       "      <td>1</td>\n",
       "      <td>0</td>\n",
       "      <td>113803</td>\n",
       "      <td>53.1000</td>\n",
       "      <td>C123</td>\n",
       "      <td>S</td>\n",
       "    </tr>\n",
       "    <tr>\n",
       "      <th>4</th>\n",
       "      <td>5</td>\n",
       "      <td>0</td>\n",
       "      <td>3</td>\n",
       "      <td>Allen, Mr. William Henry</td>\n",
       "      <td>male</td>\n",
       "      <td>35.0</td>\n",
       "      <td>0</td>\n",
       "      <td>0</td>\n",
       "      <td>373450</td>\n",
       "      <td>8.0500</td>\n",
       "      <td>NaN</td>\n",
       "      <td>S</td>\n",
       "    </tr>\n",
       "  </tbody>\n",
       "</table>\n",
       "</div>"
      ],
      "text/plain": [
       "   PassengerId  Survived  Pclass  \\\n",
       "0            1         0       3   \n",
       "1            2         1       1   \n",
       "2            3         1       3   \n",
       "3            4         1       1   \n",
       "4            5         0       3   \n",
       "\n",
       "                                                Name     Sex   Age  SibSp  \\\n",
       "0                            Braund, Mr. Owen Harris    male  22.0      1   \n",
       "1  Cumings, Mrs. John Bradley (Florence Briggs Th...  female  38.0      1   \n",
       "2                             Heikkinen, Miss. Laina  female  26.0      0   \n",
       "3       Futrelle, Mrs. Jacques Heath (Lily May Peel)  female  35.0      1   \n",
       "4                           Allen, Mr. William Henry    male  35.0      0   \n",
       "\n",
       "   Parch            Ticket     Fare Cabin Embarked  \n",
       "0      0         A/5 21171   7.2500   NaN        S  \n",
       "1      0          PC 17599  71.2833   C85        C  \n",
       "2      0  STON/O2. 3101282   7.9250   NaN        S  \n",
       "3      0            113803  53.1000  C123        S  \n",
       "4      0            373450   8.0500   NaN        S  "
      ]
     },
     "execution_count": 289,
     "metadata": {},
     "output_type": "execute_result"
    }
   ],
   "source": [
    "Titanic_data.head()"
   ]
  },
  {
   "cell_type": "markdown",
   "metadata": {},
   "source": [
    "## Indexing Time Series\n",
    "\n",
    "\n",
    "Pandas stores data and that information in dataframe objects.\n",
    "read_csv() function:\n",
    "- Can read string into datatime objects\n",
    "- Need to specify 'parse_dates = True'\n",
    "  \n",
    "ISO 8601 format: yyyy-mm-dd hh:mm:ss\n"
   ]
  },
  {
   "cell_type": "code",
   "execution_count": 290,
   "metadata": {},
   "outputs": [],
   "source": [
    "# Define the lists as shown in the image\n",
    "Date = ['2019-08-01 08:00:00', '2019-08-15 12:00:00', '2019-08-30 20:00:00', \n",
    "        '2019-09-01 08:01:00', '2019-09-15 12:01:00', '2019-09-30 20:01:00', \n",
    "        '2019-10-01 08:02:00', '2019-10-15 12:02:00', '2019-10-30 20:02:00']\n",
    "\n",
    "Company = ['Apple', 'Microsoft', 'Amazon', \n",
    "           'Apple', 'Microsoft', 'Amazon',\n",
    "           'Apple', 'Microsoft', 'Amazon']\n",
    "\n",
    "Product = ['iPhone', 'XBox', 'Mop', \n",
    "           'iPad', 'Surface', 'Decoration',\n",
    "           'MacPro', 'Office365', 'Pen']\n",
    "\n",
    "Units = ['1', '1', '2', \n",
    "         '2', '1', '1', \n",
    "         '1', '6', '10']"
   ]
  },
  {
   "cell_type": "markdown",
   "metadata": {},
   "source": [
    "## 整併數據 -> dataframe"
   ]
  },
  {
   "cell_type": "code",
   "execution_count": 291,
   "metadata": {},
   "outputs": [
    {
     "name": "stdout",
     "output_type": "stream",
     "text": [
      "                  Date    Company     Product Units\n",
      "0  2019-08-01 08:00:00      Apple      iPhone     1\n",
      "1  2019-08-15 12:00:00  Microsoft        XBox     1\n",
      "2  2019-08-30 20:00:00     Amazon         Mop     2\n",
      "3  2019-09-01 08:01:00      Apple        iPad     2\n",
      "4  2019-09-15 12:01:00  Microsoft     Surface     1\n",
      "5  2019-09-30 20:01:00     Amazon  Decoration     1\n",
      "6  2019-10-01 08:02:00      Apple      MacPro     1\n",
      "7  2019-10-15 12:02:00  Microsoft   Office365     6\n",
      "8  2019-10-30 20:02:00     Amazon         Pen    10\n"
     ]
    }
   ],
   "source": [
    "data = {'Date': Date, 'Company': Company, 'Product': Product, 'Units': Units}\n",
    "df_sales = pd.DataFrame(data)\n",
    "print(df_sales)"
   ]
  },
  {
   "cell_type": "code",
   "execution_count": 292,
   "metadata": {},
   "outputs": [
    {
     "name": "stdout",
     "output_type": "stream",
     "text": [
      "<class 'pandas.core.frame.DataFrame'>\n",
      "RangeIndex: 9 entries, 0 to 8\n",
      "Data columns (total 4 columns):\n",
      " #   Column   Non-Null Count  Dtype \n",
      "---  ------   --------------  ----- \n",
      " 0   Date     9 non-null      object\n",
      " 1   Company  9 non-null      object\n",
      " 2   Product  9 non-null      object\n",
      " 3   Units    9 non-null      object\n",
      "dtypes: object(4)\n",
      "memory usage: 416.0+ bytes\n"
     ]
    }
   ],
   "source": [
    "df_sales.info()"
   ]
  },
  {
   "cell_type": "markdown",
   "metadata": {},
   "source": [
    "## data column is not in datetime format, so we need to convert it to datetime format"
   ]
  },
  {
   "cell_type": "code",
   "execution_count": 293,
   "metadata": {},
   "outputs": [
    {
     "name": "stdout",
     "output_type": "stream",
     "text": [
      "                 Date    Company     Product Units\n",
      "0 2019-08-01 08:00:00      Apple      iPhone     1\n",
      "1 2019-08-15 12:00:00  Microsoft        XBox     1\n",
      "2 2019-08-30 20:00:00     Amazon         Mop     2\n",
      "3 2019-09-01 08:01:00      Apple        iPad     2\n",
      "4 2019-09-15 12:01:00  Microsoft     Surface     1\n",
      "5 2019-09-30 20:01:00     Amazon  Decoration     1\n",
      "6 2019-10-01 08:02:00      Apple      MacPro     1\n",
      "7 2019-10-15 12:02:00  Microsoft   Office365     6\n",
      "8 2019-10-30 20:02:00     Amazon         Pen    10\n"
     ]
    }
   ],
   "source": [
    "# Convert the 'Date' column from string to datetime\n",
    "df_sales['Date'] = pd.to_datetime(df_sales['Date'])\n",
    "\n",
    "print(df_sales)\n",
    "\n",
    "\n"
   ]
  },
  {
   "cell_type": "code",
   "execution_count": 294,
   "metadata": {},
   "outputs": [
    {
     "name": "stdout",
     "output_type": "stream",
     "text": [
      "<class 'pandas.core.frame.DataFrame'>\n",
      "RangeIndex: 9 entries, 0 to 8\n",
      "Data columns (total 4 columns):\n",
      " #   Column   Non-Null Count  Dtype         \n",
      "---  ------   --------------  -----         \n",
      " 0   Date     9 non-null      datetime64[ns]\n",
      " 1   Company  9 non-null      object        \n",
      " 2   Product  9 non-null      object        \n",
      " 3   Units    9 non-null      object        \n",
      "dtypes: datetime64[ns](1), object(3)\n",
      "memory usage: 416.0+ bytes\n"
     ]
    }
   ],
   "source": [
    "df_sales.info()"
   ]
  },
  {
   "cell_type": "markdown",
   "metadata": {},
   "source": [
    "## data column is not index, convert date to index"
   ]
  },
  {
   "cell_type": "code",
   "execution_count": 295,
   "metadata": {},
   "outputs": [],
   "source": [
    "df_sales.set_index('Date', inplace=True)\n"
   ]
  },
  {
   "cell_type": "code",
   "execution_count": 296,
   "metadata": {},
   "outputs": [
    {
     "data": {
      "text/html": [
       "<div>\n",
       "<style scoped>\n",
       "    .dataframe tbody tr th:only-of-type {\n",
       "        vertical-align: middle;\n",
       "    }\n",
       "\n",
       "    .dataframe tbody tr th {\n",
       "        vertical-align: top;\n",
       "    }\n",
       "\n",
       "    .dataframe thead th {\n",
       "        text-align: right;\n",
       "    }\n",
       "</style>\n",
       "<table border=\"1\" class=\"dataframe\">\n",
       "  <thead>\n",
       "    <tr style=\"text-align: right;\">\n",
       "      <th></th>\n",
       "      <th>Company</th>\n",
       "      <th>Product</th>\n",
       "      <th>Units</th>\n",
       "    </tr>\n",
       "    <tr>\n",
       "      <th>Date</th>\n",
       "      <th></th>\n",
       "      <th></th>\n",
       "      <th></th>\n",
       "    </tr>\n",
       "  </thead>\n",
       "  <tbody>\n",
       "    <tr>\n",
       "      <th>2019-08-01 08:00:00</th>\n",
       "      <td>Apple</td>\n",
       "      <td>iPhone</td>\n",
       "      <td>1</td>\n",
       "    </tr>\n",
       "    <tr>\n",
       "      <th>2019-08-15 12:00:00</th>\n",
       "      <td>Microsoft</td>\n",
       "      <td>XBox</td>\n",
       "      <td>1</td>\n",
       "    </tr>\n",
       "    <tr>\n",
       "      <th>2019-08-30 20:00:00</th>\n",
       "      <td>Amazon</td>\n",
       "      <td>Mop</td>\n",
       "      <td>2</td>\n",
       "    </tr>\n",
       "    <tr>\n",
       "      <th>2019-09-01 08:01:00</th>\n",
       "      <td>Apple</td>\n",
       "      <td>iPad</td>\n",
       "      <td>2</td>\n",
       "    </tr>\n",
       "    <tr>\n",
       "      <th>2019-09-15 12:01:00</th>\n",
       "      <td>Microsoft</td>\n",
       "      <td>Surface</td>\n",
       "      <td>1</td>\n",
       "    </tr>\n",
       "    <tr>\n",
       "      <th>2019-09-30 20:01:00</th>\n",
       "      <td>Amazon</td>\n",
       "      <td>Decoration</td>\n",
       "      <td>1</td>\n",
       "    </tr>\n",
       "    <tr>\n",
       "      <th>2019-10-01 08:02:00</th>\n",
       "      <td>Apple</td>\n",
       "      <td>MacPro</td>\n",
       "      <td>1</td>\n",
       "    </tr>\n",
       "    <tr>\n",
       "      <th>2019-10-15 12:02:00</th>\n",
       "      <td>Microsoft</td>\n",
       "      <td>Office365</td>\n",
       "      <td>6</td>\n",
       "    </tr>\n",
       "    <tr>\n",
       "      <th>2019-10-30 20:02:00</th>\n",
       "      <td>Amazon</td>\n",
       "      <td>Pen</td>\n",
       "      <td>10</td>\n",
       "    </tr>\n",
       "  </tbody>\n",
       "</table>\n",
       "</div>"
      ],
      "text/plain": [
       "                       Company     Product Units\n",
       "Date                                            \n",
       "2019-08-01 08:00:00      Apple      iPhone     1\n",
       "2019-08-15 12:00:00  Microsoft        XBox     1\n",
       "2019-08-30 20:00:00     Amazon         Mop     2\n",
       "2019-09-01 08:01:00      Apple        iPad     2\n",
       "2019-09-15 12:01:00  Microsoft     Surface     1\n",
       "2019-09-30 20:01:00     Amazon  Decoration     1\n",
       "2019-10-01 08:02:00      Apple      MacPro     1\n",
       "2019-10-15 12:02:00  Microsoft   Office365     6\n",
       "2019-10-30 20:02:00     Amazon         Pen    10"
      ]
     },
     "execution_count": 296,
     "metadata": {},
     "output_type": "execute_result"
    }
   ],
   "source": [
    "df_sales"
   ]
  },
  {
   "cell_type": "code",
   "execution_count": 297,
   "metadata": {},
   "outputs": [
    {
     "name": "stdout",
     "output_type": "stream",
     "text": [
      "<class 'pandas.core.frame.DataFrame'>\n",
      "DatetimeIndex: 9 entries, 2019-08-01 08:00:00 to 2019-10-30 20:02:00\n",
      "Data columns (total 3 columns):\n",
      " #   Column   Non-Null Count  Dtype \n",
      "---  ------   --------------  ----- \n",
      " 0   Company  9 non-null      object\n",
      " 1   Product  9 non-null      object\n",
      " 2   Units    9 non-null      object\n",
      "dtypes: object(3)\n",
      "memory usage: 288.0+ bytes\n"
     ]
    }
   ],
   "source": [
    "df_sales.info()"
   ]
  },
  {
   "cell_type": "code",
   "execution_count": 298,
   "metadata": {},
   "outputs": [
    {
     "data": {
      "text/plain": [
       "'Apple'"
      ]
     },
     "execution_count": 298,
     "metadata": {},
     "output_type": "execute_result"
    }
   ],
   "source": [
    "# selecting single datetime\n",
    "# the .loc method can be used to select data by row and column\n",
    "\n",
    "df_sales.loc['2019-08-01 08:00:00', 'Company']"
   ]
  },
  {
   "cell_type": "code",
   "execution_count": 299,
   "metadata": {},
   "outputs": [
    {
     "data": {
      "text/plain": [
       "Company     Apple\n",
       "Product    iPhone\n",
       "Units           1\n",
       "Name: 2019-08-01 08:00:00, dtype: object"
      ]
     },
     "execution_count": 299,
     "metadata": {},
     "output_type": "execute_result"
    }
   ],
   "source": [
    "df_sales.loc['2019-08-01 08:00:00']"
   ]
  },
  {
   "cell_type": "markdown",
   "metadata": {},
   "source": [
    "### partial string and Pandas supports a number of different ways to select data based on partial string indexing."
   ]
  },
  {
   "cell_type": "code",
   "execution_count": 300,
   "metadata": {},
   "outputs": [
    {
     "data": {
      "text/html": [
       "<div>\n",
       "<style scoped>\n",
       "    .dataframe tbody tr th:only-of-type {\n",
       "        vertical-align: middle;\n",
       "    }\n",
       "\n",
       "    .dataframe tbody tr th {\n",
       "        vertical-align: top;\n",
       "    }\n",
       "\n",
       "    .dataframe thead th {\n",
       "        text-align: right;\n",
       "    }\n",
       "</style>\n",
       "<table border=\"1\" class=\"dataframe\">\n",
       "  <thead>\n",
       "    <tr style=\"text-align: right;\">\n",
       "      <th></th>\n",
       "      <th>Company</th>\n",
       "      <th>Product</th>\n",
       "      <th>Units</th>\n",
       "    </tr>\n",
       "    <tr>\n",
       "      <th>Date</th>\n",
       "      <th></th>\n",
       "      <th></th>\n",
       "      <th></th>\n",
       "    </tr>\n",
       "  </thead>\n",
       "  <tbody>\n",
       "    <tr>\n",
       "      <th>2019-08-01 08:00:00</th>\n",
       "      <td>Apple</td>\n",
       "      <td>iPhone</td>\n",
       "      <td>1</td>\n",
       "    </tr>\n",
       "    <tr>\n",
       "      <th>2019-08-15 12:00:00</th>\n",
       "      <td>Microsoft</td>\n",
       "      <td>XBox</td>\n",
       "      <td>1</td>\n",
       "    </tr>\n",
       "    <tr>\n",
       "      <th>2019-08-30 20:00:00</th>\n",
       "      <td>Amazon</td>\n",
       "      <td>Mop</td>\n",
       "      <td>2</td>\n",
       "    </tr>\n",
       "  </tbody>\n",
       "</table>\n",
       "</div>"
      ],
      "text/plain": [
       "                       Company Product Units\n",
       "Date                                        \n",
       "2019-08-01 08:00:00      Apple  iPhone     1\n",
       "2019-08-15 12:00:00  Microsoft    XBox     1\n",
       "2019-08-30 20:00:00     Amazon     Mop     2"
      ]
     },
     "execution_count": 300,
     "metadata": {},
     "output_type": "execute_result"
    }
   ],
   "source": [
    "df_sales.loc['2019-08']"
   ]
  },
  {
   "cell_type": "code",
   "execution_count": 301,
   "metadata": {},
   "outputs": [
    {
     "data": {
      "text/html": [
       "<div>\n",
       "<style scoped>\n",
       "    .dataframe tbody tr th:only-of-type {\n",
       "        vertical-align: middle;\n",
       "    }\n",
       "\n",
       "    .dataframe tbody tr th {\n",
       "        vertical-align: top;\n",
       "    }\n",
       "\n",
       "    .dataframe thead th {\n",
       "        text-align: right;\n",
       "    }\n",
       "</style>\n",
       "<table border=\"1\" class=\"dataframe\">\n",
       "  <thead>\n",
       "    <tr style=\"text-align: right;\">\n",
       "      <th></th>\n",
       "      <th>Company</th>\n",
       "      <th>Product</th>\n",
       "      <th>Units</th>\n",
       "    </tr>\n",
       "    <tr>\n",
       "      <th>Date</th>\n",
       "      <th></th>\n",
       "      <th></th>\n",
       "      <th></th>\n",
       "    </tr>\n",
       "  </thead>\n",
       "  <tbody>\n",
       "    <tr>\n",
       "      <th>2019-10-01 08:02:00</th>\n",
       "      <td>Apple</td>\n",
       "      <td>MacPro</td>\n",
       "      <td>1</td>\n",
       "    </tr>\n",
       "    <tr>\n",
       "      <th>2019-10-15 12:02:00</th>\n",
       "      <td>Microsoft</td>\n",
       "      <td>Office365</td>\n",
       "      <td>6</td>\n",
       "    </tr>\n",
       "    <tr>\n",
       "      <th>2019-10-30 20:02:00</th>\n",
       "      <td>Amazon</td>\n",
       "      <td>Pen</td>\n",
       "      <td>10</td>\n",
       "    </tr>\n",
       "  </tbody>\n",
       "</table>\n",
       "</div>"
      ],
      "text/plain": [
       "                       Company    Product Units\n",
       "Date                                           \n",
       "2019-10-01 08:02:00      Apple     MacPro     1\n",
       "2019-10-15 12:02:00  Microsoft  Office365     6\n",
       "2019-10-30 20:02:00     Amazon        Pen    10"
      ]
     },
     "execution_count": 301,
     "metadata": {},
     "output_type": "execute_result"
    }
   ],
   "source": [
    "# Here, we are going to give you more alternative ways to do that...\n",
    "\n",
    "df_sales.loc['October, 2019']"
   ]
  },
  {
   "cell_type": "code",
   "execution_count": 302,
   "metadata": {},
   "outputs": [
    {
     "data": {
      "text/html": [
       "<div>\n",
       "<style scoped>\n",
       "    .dataframe tbody tr th:only-of-type {\n",
       "        vertical-align: middle;\n",
       "    }\n",
       "\n",
       "    .dataframe tbody tr th {\n",
       "        vertical-align: top;\n",
       "    }\n",
       "\n",
       "    .dataframe thead th {\n",
       "        text-align: right;\n",
       "    }\n",
       "</style>\n",
       "<table border=\"1\" class=\"dataframe\">\n",
       "  <thead>\n",
       "    <tr style=\"text-align: right;\">\n",
       "      <th></th>\n",
       "      <th>Company</th>\n",
       "      <th>Product</th>\n",
       "      <th>Units</th>\n",
       "    </tr>\n",
       "    <tr>\n",
       "      <th>Date</th>\n",
       "      <th></th>\n",
       "      <th></th>\n",
       "      <th></th>\n",
       "    </tr>\n",
       "  </thead>\n",
       "  <tbody>\n",
       "    <tr>\n",
       "      <th>2019-10-01 08:02:00</th>\n",
       "      <td>Apple</td>\n",
       "      <td>MacPro</td>\n",
       "      <td>1</td>\n",
       "    </tr>\n",
       "  </tbody>\n",
       "</table>\n",
       "</div>"
      ],
      "text/plain": [
       "                    Company Product Units\n",
       "Date                                     \n",
       "2019-10-01 08:02:00   Apple  MacPro     1"
      ]
     },
     "execution_count": 302,
     "metadata": {},
     "output_type": "execute_result"
    }
   ],
   "source": [
    "df_sales.loc['2019-Oct-1']\n"
   ]
  },
  {
   "cell_type": "code",
   "execution_count": 303,
   "metadata": {},
   "outputs": [
    {
     "data": {
      "text/html": [
       "<div>\n",
       "<style scoped>\n",
       "    .dataframe tbody tr th:only-of-type {\n",
       "        vertical-align: middle;\n",
       "    }\n",
       "\n",
       "    .dataframe tbody tr th {\n",
       "        vertical-align: top;\n",
       "    }\n",
       "\n",
       "    .dataframe thead th {\n",
       "        text-align: right;\n",
       "    }\n",
       "</style>\n",
       "<table border=\"1\" class=\"dataframe\">\n",
       "  <thead>\n",
       "    <tr style=\"text-align: right;\">\n",
       "      <th></th>\n",
       "      <th>Company</th>\n",
       "      <th>Product</th>\n",
       "      <th>Units</th>\n",
       "    </tr>\n",
       "    <tr>\n",
       "      <th>Date</th>\n",
       "      <th></th>\n",
       "      <th></th>\n",
       "      <th></th>\n",
       "    </tr>\n",
       "  </thead>\n",
       "  <tbody>\n",
       "    <tr>\n",
       "      <th>2019-08-01 08:00:00</th>\n",
       "      <td>Apple</td>\n",
       "      <td>iPhone</td>\n",
       "      <td>1</td>\n",
       "    </tr>\n",
       "    <tr>\n",
       "      <th>2019-08-15 12:00:00</th>\n",
       "      <td>Microsoft</td>\n",
       "      <td>XBox</td>\n",
       "      <td>1</td>\n",
       "    </tr>\n",
       "    <tr>\n",
       "      <th>2019-08-30 20:00:00</th>\n",
       "      <td>Amazon</td>\n",
       "      <td>Mop</td>\n",
       "      <td>2</td>\n",
       "    </tr>\n",
       "    <tr>\n",
       "      <th>2019-09-01 08:01:00</th>\n",
       "      <td>Apple</td>\n",
       "      <td>iPad</td>\n",
       "      <td>2</td>\n",
       "    </tr>\n",
       "    <tr>\n",
       "      <th>2019-09-15 12:01:00</th>\n",
       "      <td>Microsoft</td>\n",
       "      <td>Surface</td>\n",
       "      <td>1</td>\n",
       "    </tr>\n",
       "    <tr>\n",
       "      <th>2019-09-30 20:01:00</th>\n",
       "      <td>Amazon</td>\n",
       "      <td>Decoration</td>\n",
       "      <td>1</td>\n",
       "    </tr>\n",
       "    <tr>\n",
       "      <th>2019-10-01 08:02:00</th>\n",
       "      <td>Apple</td>\n",
       "      <td>MacPro</td>\n",
       "      <td>1</td>\n",
       "    </tr>\n",
       "    <tr>\n",
       "      <th>2019-10-15 12:02:00</th>\n",
       "      <td>Microsoft</td>\n",
       "      <td>Office365</td>\n",
       "      <td>6</td>\n",
       "    </tr>\n",
       "    <tr>\n",
       "      <th>2019-10-30 20:02:00</th>\n",
       "      <td>Amazon</td>\n",
       "      <td>Pen</td>\n",
       "      <td>10</td>\n",
       "    </tr>\n",
       "  </tbody>\n",
       "</table>\n",
       "</div>"
      ],
      "text/plain": [
       "                       Company     Product Units\n",
       "Date                                            \n",
       "2019-08-01 08:00:00      Apple      iPhone     1\n",
       "2019-08-15 12:00:00  Microsoft        XBox     1\n",
       "2019-08-30 20:00:00     Amazon         Mop     2\n",
       "2019-09-01 08:01:00      Apple        iPad     2\n",
       "2019-09-15 12:01:00  Microsoft     Surface     1\n",
       "2019-09-30 20:01:00     Amazon  Decoration     1\n",
       "2019-10-01 08:02:00      Apple      MacPro     1\n",
       "2019-10-15 12:02:00  Microsoft   Office365     6\n",
       "2019-10-30 20:02:00     Amazon         Pen    10"
      ]
     },
     "execution_count": 303,
     "metadata": {},
     "output_type": "execute_result"
    }
   ],
   "source": [
    "df_sales.loc['2019']"
   ]
  },
  {
   "cell_type": "code",
   "execution_count": 304,
   "metadata": {},
   "outputs": [
    {
     "data": {
      "text/html": [
       "<div>\n",
       "<style scoped>\n",
       "    .dataframe tbody tr th:only-of-type {\n",
       "        vertical-align: middle;\n",
       "    }\n",
       "\n",
       "    .dataframe tbody tr th {\n",
       "        vertical-align: top;\n",
       "    }\n",
       "\n",
       "    .dataframe thead th {\n",
       "        text-align: right;\n",
       "    }\n",
       "</style>\n",
       "<table border=\"1\" class=\"dataframe\">\n",
       "  <thead>\n",
       "    <tr style=\"text-align: right;\">\n",
       "      <th></th>\n",
       "      <th>Company</th>\n",
       "      <th>Product</th>\n",
       "      <th>Units</th>\n",
       "    </tr>\n",
       "    <tr>\n",
       "      <th>Date</th>\n",
       "      <th></th>\n",
       "      <th></th>\n",
       "      <th></th>\n",
       "    </tr>\n",
       "  </thead>\n",
       "  <tbody>\n",
       "    <tr>\n",
       "      <th>2019-09-01 08:01:00</th>\n",
       "      <td>Apple</td>\n",
       "      <td>iPad</td>\n",
       "      <td>2</td>\n",
       "    </tr>\n",
       "    <tr>\n",
       "      <th>2019-09-15 12:01:00</th>\n",
       "      <td>Microsoft</td>\n",
       "      <td>Surface</td>\n",
       "      <td>1</td>\n",
       "    </tr>\n",
       "    <tr>\n",
       "      <th>2019-09-30 20:01:00</th>\n",
       "      <td>Amazon</td>\n",
       "      <td>Decoration</td>\n",
       "      <td>1</td>\n",
       "    </tr>\n",
       "    <tr>\n",
       "      <th>2019-10-01 08:02:00</th>\n",
       "      <td>Apple</td>\n",
       "      <td>MacPro</td>\n",
       "      <td>1</td>\n",
       "    </tr>\n",
       "    <tr>\n",
       "      <th>2019-10-15 12:02:00</th>\n",
       "      <td>Microsoft</td>\n",
       "      <td>Office365</td>\n",
       "      <td>6</td>\n",
       "    </tr>\n",
       "    <tr>\n",
       "      <th>2019-10-30 20:02:00</th>\n",
       "      <td>Amazon</td>\n",
       "      <td>Pen</td>\n",
       "      <td>10</td>\n",
       "    </tr>\n",
       "  </tbody>\n",
       "</table>\n",
       "</div>"
      ],
      "text/plain": [
       "                       Company     Product Units\n",
       "Date                                            \n",
       "2019-09-01 08:01:00      Apple        iPad     2\n",
       "2019-09-15 12:01:00  Microsoft     Surface     1\n",
       "2019-09-30 20:01:00     Amazon  Decoration     1\n",
       "2019-10-01 08:02:00      Apple      MacPro     1\n",
       "2019-10-15 12:02:00  Microsoft   Office365     6\n",
       "2019-10-30 20:02:00     Amazon         Pen    10"
      ]
     },
     "execution_count": 304,
     "metadata": {},
     "output_type": "execute_result"
    }
   ],
   "source": [
    "# slicing using dates/times\n",
    "df_sales.loc['2019-09':'2019-10']"
   ]
  },
  {
   "cell_type": "markdown",
   "metadata": {},
   "source": [
    "## we sometimes need to reindex a Series or Dataframe.\n",
    "Reindeing involves provide a new index and the data will be realigned to the new index."
   ]
  },
  {
   "cell_type": "code",
   "execution_count": 305,
   "metadata": {},
   "outputs": [
    {
     "data": {
      "text/html": [
       "<div>\n",
       "<style scoped>\n",
       "    .dataframe tbody tr th:only-of-type {\n",
       "        vertical-align: middle;\n",
       "    }\n",
       "\n",
       "    .dataframe tbody tr th {\n",
       "        vertical-align: top;\n",
       "    }\n",
       "\n",
       "    .dataframe thead th {\n",
       "        text-align: right;\n",
       "    }\n",
       "</style>\n",
       "<table border=\"1\" class=\"dataframe\">\n",
       "  <thead>\n",
       "    <tr style=\"text-align: right;\">\n",
       "      <th></th>\n",
       "      <th>Company</th>\n",
       "      <th>Product</th>\n",
       "      <th>Units</th>\n",
       "    </tr>\n",
       "  </thead>\n",
       "  <tbody>\n",
       "    <tr>\n",
       "      <th>2019-09-01 08:01:00</th>\n",
       "      <td>Apple</td>\n",
       "      <td>iPad</td>\n",
       "      <td>2</td>\n",
       "    </tr>\n",
       "    <tr>\n",
       "      <th>2019-09-06 12:01:00</th>\n",
       "      <td>NaN</td>\n",
       "      <td>NaN</td>\n",
       "      <td>NaN</td>\n",
       "    </tr>\n",
       "    <tr>\n",
       "      <th>2019-09-10 12:01:00</th>\n",
       "      <td>NaN</td>\n",
       "      <td>NaN</td>\n",
       "      <td>NaN</td>\n",
       "    </tr>\n",
       "    <tr>\n",
       "      <th>2019-09-15 12:01:00</th>\n",
       "      <td>Microsoft</td>\n",
       "      <td>Surface</td>\n",
       "      <td>1</td>\n",
       "    </tr>\n",
       "  </tbody>\n",
       "</table>\n",
       "</div>"
      ],
      "text/plain": [
       "                       Company  Product Units\n",
       "2019-09-01 08:01:00      Apple     iPad     2\n",
       "2019-09-06 12:01:00        NaN      NaN   NaN\n",
       "2019-09-10 12:01:00        NaN      NaN   NaN\n",
       "2019-09-15 12:01:00  Microsoft  Surface     1"
      ]
     },
     "execution_count": 305,
     "metadata": {},
     "output_type": "execute_result"
    }
   ],
   "source": [
    "time = pd.to_datetime(['2019-09-01 08:01:00','2019-09-06 12:01:00','2019-09-10 12:01:00','2019-09-15 12:01:00'])\n",
    "\n",
    "df_sales.reindex(time)"
   ]
  },
  {
   "cell_type": "markdown",
   "metadata": {},
   "source": [
    "### Here, the reindex method returns a new Dataframe with the four rows corresponding to times in time"
   ]
  },
  {
   "cell_type": "code",
   "execution_count": 306,
   "metadata": {},
   "outputs": [
    {
     "data": {
      "text/html": [
       "<div>\n",
       "<style scoped>\n",
       "    .dataframe tbody tr th:only-of-type {\n",
       "        vertical-align: middle;\n",
       "    }\n",
       "\n",
       "    .dataframe tbody tr th {\n",
       "        vertical-align: top;\n",
       "    }\n",
       "\n",
       "    .dataframe thead th {\n",
       "        text-align: right;\n",
       "    }\n",
       "</style>\n",
       "<table border=\"1\" class=\"dataframe\">\n",
       "  <thead>\n",
       "    <tr style=\"text-align: right;\">\n",
       "      <th></th>\n",
       "      <th>Company</th>\n",
       "      <th>Product</th>\n",
       "      <th>Units</th>\n",
       "    </tr>\n",
       "  </thead>\n",
       "  <tbody>\n",
       "    <tr>\n",
       "      <th>2019-09-01 08:01:00</th>\n",
       "      <td>Apple</td>\n",
       "      <td>iPad</td>\n",
       "      <td>2</td>\n",
       "    </tr>\n",
       "    <tr>\n",
       "      <th>2019-09-06 12:01:00</th>\n",
       "      <td>Apple</td>\n",
       "      <td>iPad</td>\n",
       "      <td>2</td>\n",
       "    </tr>\n",
       "    <tr>\n",
       "      <th>2019-09-10 12:01:00</th>\n",
       "      <td>Apple</td>\n",
       "      <td>iPad</td>\n",
       "      <td>2</td>\n",
       "    </tr>\n",
       "    <tr>\n",
       "      <th>2019-09-15 12:01:00</th>\n",
       "      <td>Microsoft</td>\n",
       "      <td>Surface</td>\n",
       "      <td>1</td>\n",
       "    </tr>\n",
       "  </tbody>\n",
       "</table>\n",
       "</div>"
      ],
      "text/plain": [
       "                       Company  Product Units\n",
       "2019-09-01 08:01:00      Apple     iPad     2\n",
       "2019-09-06 12:01:00      Apple     iPad     2\n",
       "2019-09-10 12:01:00      Apple     iPad     2\n",
       "2019-09-15 12:01:00  Microsoft  Surface     1"
      ]
     },
     "execution_count": 306,
     "metadata": {},
     "output_type": "execute_result"
    }
   ],
   "source": [
    "## when using reindex with missing entries, we can override the default behavior of filling with Nan.\n",
    "\n",
    "## Forward fill\n",
    "\n",
    "df_sales.reindex(time, method='ffill')"
   ]
  },
  {
   "cell_type": "code",
   "execution_count": 307,
   "metadata": {},
   "outputs": [
    {
     "data": {
      "text/html": [
       "<div>\n",
       "<style scoped>\n",
       "    .dataframe tbody tr th:only-of-type {\n",
       "        vertical-align: middle;\n",
       "    }\n",
       "\n",
       "    .dataframe tbody tr th {\n",
       "        vertical-align: top;\n",
       "    }\n",
       "\n",
       "    .dataframe thead th {\n",
       "        text-align: right;\n",
       "    }\n",
       "</style>\n",
       "<table border=\"1\" class=\"dataframe\">\n",
       "  <thead>\n",
       "    <tr style=\"text-align: right;\">\n",
       "      <th></th>\n",
       "      <th>Company</th>\n",
       "      <th>Product</th>\n",
       "      <th>Units</th>\n",
       "    </tr>\n",
       "  </thead>\n",
       "  <tbody>\n",
       "    <tr>\n",
       "      <th>2019-09-01 08:01:00</th>\n",
       "      <td>Apple</td>\n",
       "      <td>iPad</td>\n",
       "      <td>2</td>\n",
       "    </tr>\n",
       "    <tr>\n",
       "      <th>2019-09-06 12:01:00</th>\n",
       "      <td>Microsoft</td>\n",
       "      <td>Surface</td>\n",
       "      <td>1</td>\n",
       "    </tr>\n",
       "    <tr>\n",
       "      <th>2019-09-10 12:01:00</th>\n",
       "      <td>Microsoft</td>\n",
       "      <td>Surface</td>\n",
       "      <td>1</td>\n",
       "    </tr>\n",
       "    <tr>\n",
       "      <th>2019-09-15 12:01:00</th>\n",
       "      <td>Microsoft</td>\n",
       "      <td>Surface</td>\n",
       "      <td>1</td>\n",
       "    </tr>\n",
       "  </tbody>\n",
       "</table>\n",
       "</div>"
      ],
      "text/plain": [
       "                       Company  Product Units\n",
       "2019-09-01 08:01:00      Apple     iPad     2\n",
       "2019-09-06 12:01:00  Microsoft  Surface     1\n",
       "2019-09-10 12:01:00  Microsoft  Surface     1\n",
       "2019-09-15 12:01:00  Microsoft  Surface     1"
      ]
     },
     "execution_count": 307,
     "metadata": {},
     "output_type": "execute_result"
    }
   ],
   "source": [
    "## Backward fill\n",
    "\n",
    "df_sales.reindex(time, method='bfill')"
   ]
  },
  {
   "cell_type": "markdown",
   "metadata": {},
   "source": [
    "# Resampling Time Series Data"
   ]
  },
  {
   "cell_type": "code",
   "execution_count": 308,
   "metadata": {},
   "outputs": [
    {
     "data": {
      "text/html": [
       "<div>\n",
       "<style scoped>\n",
       "    .dataframe tbody tr th:only-of-type {\n",
       "        vertical-align: middle;\n",
       "    }\n",
       "\n",
       "    .dataframe tbody tr th {\n",
       "        vertical-align: top;\n",
       "    }\n",
       "\n",
       "    .dataframe thead th {\n",
       "        text-align: right;\n",
       "    }\n",
       "</style>\n",
       "<table border=\"1\" class=\"dataframe\">\n",
       "  <thead>\n",
       "    <tr style=\"text-align: right;\">\n",
       "      <th></th>\n",
       "      <th>Company</th>\n",
       "      <th>Product</th>\n",
       "      <th>Units</th>\n",
       "    </tr>\n",
       "    <tr>\n",
       "      <th>Date</th>\n",
       "      <th></th>\n",
       "      <th></th>\n",
       "      <th></th>\n",
       "    </tr>\n",
       "  </thead>\n",
       "  <tbody>\n",
       "    <tr>\n",
       "      <th>2019-08-01 08:00:00</th>\n",
       "      <td>Apple</td>\n",
       "      <td>iPhone</td>\n",
       "      <td>1</td>\n",
       "    </tr>\n",
       "    <tr>\n",
       "      <th>2019-08-15 12:00:00</th>\n",
       "      <td>Microsoft</td>\n",
       "      <td>XBox</td>\n",
       "      <td>1</td>\n",
       "    </tr>\n",
       "    <tr>\n",
       "      <th>2019-08-30 20:00:00</th>\n",
       "      <td>Amazon</td>\n",
       "      <td>Mop</td>\n",
       "      <td>2</td>\n",
       "    </tr>\n",
       "    <tr>\n",
       "      <th>2019-09-01 08:01:00</th>\n",
       "      <td>Apple</td>\n",
       "      <td>iPad</td>\n",
       "      <td>2</td>\n",
       "    </tr>\n",
       "    <tr>\n",
       "      <th>2019-09-15 12:01:00</th>\n",
       "      <td>Microsoft</td>\n",
       "      <td>Surface</td>\n",
       "      <td>1</td>\n",
       "    </tr>\n",
       "    <tr>\n",
       "      <th>2019-09-30 20:01:00</th>\n",
       "      <td>Amazon</td>\n",
       "      <td>Decoration</td>\n",
       "      <td>1</td>\n",
       "    </tr>\n",
       "    <tr>\n",
       "      <th>2019-10-01 08:02:00</th>\n",
       "      <td>Apple</td>\n",
       "      <td>MacPro</td>\n",
       "      <td>1</td>\n",
       "    </tr>\n",
       "    <tr>\n",
       "      <th>2019-10-15 12:02:00</th>\n",
       "      <td>Microsoft</td>\n",
       "      <td>Office365</td>\n",
       "      <td>6</td>\n",
       "    </tr>\n",
       "    <tr>\n",
       "      <th>2019-10-30 20:02:00</th>\n",
       "      <td>Amazon</td>\n",
       "      <td>Pen</td>\n",
       "      <td>10</td>\n",
       "    </tr>\n",
       "  </tbody>\n",
       "</table>\n",
       "</div>"
      ],
      "text/plain": [
       "                       Company     Product  Units\n",
       "Date                                             \n",
       "2019-08-01 08:00:00      Apple      iPhone      1\n",
       "2019-08-15 12:00:00  Microsoft        XBox      1\n",
       "2019-08-30 20:00:00     Amazon         Mop      2\n",
       "2019-09-01 08:01:00      Apple        iPad      2\n",
       "2019-09-15 12:01:00  Microsoft     Surface      1\n",
       "2019-09-30 20:01:00     Amazon  Decoration      1\n",
       "2019-10-01 08:02:00      Apple      MacPro      1\n",
       "2019-10-15 12:02:00  Microsoft   Office365      6\n",
       "2019-10-30 20:02:00     Amazon         Pen     10"
      ]
     },
     "execution_count": 308,
     "metadata": {},
     "output_type": "execute_result"
    }
   ],
   "source": [
    "# Define the lists as shown in the image\n",
    "Date = ['2019-08-01 08:00:00', '2019-08-15 12:00:00', '2019-08-30 20:00:00', \n",
    "        '2019-09-01 08:01:00', '2019-09-15 12:01:00', '2019-09-30 20:01:00', \n",
    "        '2019-10-01 08:02:00', '2019-10-15 12:02:00', '2019-10-30 20:02:00']\n",
    "\n",
    "Company = ['Apple', 'Microsoft', 'Amazon', \n",
    "           'Apple', 'Microsoft', 'Amazon',\n",
    "           'Apple', 'Microsoft', 'Amazon']\n",
    "\n",
    "Product = ['iPhone', 'XBox', 'Mop', \n",
    "           'iPad', 'Surface', 'Decoration',\n",
    "           'MacPro', 'Office365', 'Pen']\n",
    "\n",
    "Units = ['1', '1', '2', \n",
    "         '2', '1', '1', \n",
    "         '1', '6', '10']\n",
    "\n",
    "df_sales = pd.DataFrame({'Date': Date, 'Company': Company, 'Product': Product, 'Units': Units})\n",
    "\n",
    "# Converting 'Date' to datetime\n",
    "df_sales['Date'] = pd.to_datetime(df_sales['Date'])\n",
    "\n",
    "# Setting 'Date' as the index\n",
    "df_sales.set_index('Date', inplace=True)\n",
    "\n",
    "# Converting 'Units' to numeric\n",
    "df_sales['Units'] = pd.to_numeric(df_sales['Units'])\n",
    "\n",
    "\n",
    "df_sales\n",
    "\n",
    "\n"
   ]
  },
  {
   "cell_type": "code",
   "execution_count": 309,
   "metadata": {},
   "outputs": [
    {
     "name": "stdout",
     "output_type": "stream",
     "text": [
      "<class 'pandas.core.frame.DataFrame'>\n",
      "DatetimeIndex: 9 entries, 2019-08-01 08:00:00 to 2019-10-30 20:02:00\n",
      "Data columns (total 3 columns):\n",
      " #   Column   Non-Null Count  Dtype \n",
      "---  ------   --------------  ----- \n",
      " 0   Company  9 non-null      object\n",
      " 1   Product  9 non-null      object\n",
      " 2   Units    9 non-null      int64 \n",
      "dtypes: int64(1), object(2)\n",
      "memory usage: 288.0+ bytes\n"
     ]
    }
   ],
   "source": [
    "df_sales.info()"
   ]
  },
  {
   "cell_type": "markdown",
   "metadata": {},
   "source": [
    "# Resampling\n",
    "\n",
    "- Resampling methods over different time intervals: mean(), sum(), count(), etc.\n",
    "- Downsampling: reduce datetime rows to slower frequency, i.e. daily to weekly, hourly to daily, etc.\n",
    "- Upsampling: increase datetime rows to faster frequency, i.e. daily to hourly, etc."
   ]
  },
  {
   "cell_type": "code",
   "execution_count": 310,
   "metadata": {},
   "outputs": [
    {
     "data": {
      "text/html": [
       "<div>\n",
       "<style scoped>\n",
       "    .dataframe tbody tr th:only-of-type {\n",
       "        vertical-align: middle;\n",
       "    }\n",
       "\n",
       "    .dataframe tbody tr th {\n",
       "        vertical-align: top;\n",
       "    }\n",
       "\n",
       "    .dataframe thead th {\n",
       "        text-align: right;\n",
       "    }\n",
       "</style>\n",
       "<table border=\"1\" class=\"dataframe\">\n",
       "  <thead>\n",
       "    <tr style=\"text-align: right;\">\n",
       "      <th></th>\n",
       "      <th>Units</th>\n",
       "    </tr>\n",
       "    <tr>\n",
       "      <th>Date</th>\n",
       "      <th></th>\n",
       "    </tr>\n",
       "  </thead>\n",
       "  <tbody>\n",
       "    <tr>\n",
       "      <th>2019-08-01</th>\n",
       "      <td>1.0</td>\n",
       "    </tr>\n",
       "    <tr>\n",
       "      <th>2019-08-02</th>\n",
       "      <td>NaN</td>\n",
       "    </tr>\n",
       "    <tr>\n",
       "      <th>2019-08-03</th>\n",
       "      <td>NaN</td>\n",
       "    </tr>\n",
       "    <tr>\n",
       "      <th>2019-08-04</th>\n",
       "      <td>NaN</td>\n",
       "    </tr>\n",
       "    <tr>\n",
       "      <th>2019-08-05</th>\n",
       "      <td>NaN</td>\n",
       "    </tr>\n",
       "    <tr>\n",
       "      <th>...</th>\n",
       "      <td>...</td>\n",
       "    </tr>\n",
       "    <tr>\n",
       "      <th>2019-10-26</th>\n",
       "      <td>NaN</td>\n",
       "    </tr>\n",
       "    <tr>\n",
       "      <th>2019-10-27</th>\n",
       "      <td>NaN</td>\n",
       "    </tr>\n",
       "    <tr>\n",
       "      <th>2019-10-28</th>\n",
       "      <td>NaN</td>\n",
       "    </tr>\n",
       "    <tr>\n",
       "      <th>2019-10-29</th>\n",
       "      <td>NaN</td>\n",
       "    </tr>\n",
       "    <tr>\n",
       "      <th>2019-10-30</th>\n",
       "      <td>10.0</td>\n",
       "    </tr>\n",
       "  </tbody>\n",
       "</table>\n",
       "<p>91 rows × 1 columns</p>\n",
       "</div>"
      ],
      "text/plain": [
       "            Units\n",
       "Date             \n",
       "2019-08-01    1.0\n",
       "2019-08-02    NaN\n",
       "2019-08-03    NaN\n",
       "2019-08-04    NaN\n",
       "2019-08-05    NaN\n",
       "...           ...\n",
       "2019-10-26    NaN\n",
       "2019-10-27    NaN\n",
       "2019-10-28    NaN\n",
       "2019-10-29    NaN\n",
       "2019-10-30   10.0\n",
       "\n",
       "[91 rows x 1 columns]"
      ]
     },
     "execution_count": 310,
     "metadata": {},
     "output_type": "execute_result"
    }
   ],
   "source": [
    "# Aggregating means\n",
    "\n",
    "daily_mean = df_sales[['Units']].resample('D').mean()\n",
    "daily_mean"
   ]
  },
  {
   "cell_type": "code",
   "execution_count": 311,
   "metadata": {},
   "outputs": [
    {
     "data": {
      "text/html": [
       "<div>\n",
       "<style scoped>\n",
       "    .dataframe tbody tr th:only-of-type {\n",
       "        vertical-align: middle;\n",
       "    }\n",
       "\n",
       "    .dataframe tbody tr th {\n",
       "        vertical-align: top;\n",
       "    }\n",
       "\n",
       "    .dataframe thead th {\n",
       "        text-align: right;\n",
       "    }\n",
       "</style>\n",
       "<table border=\"1\" class=\"dataframe\">\n",
       "  <thead>\n",
       "    <tr style=\"text-align: right;\">\n",
       "      <th></th>\n",
       "      <th>Units</th>\n",
       "    </tr>\n",
       "    <tr>\n",
       "      <th>Date</th>\n",
       "      <th></th>\n",
       "    </tr>\n",
       "  </thead>\n",
       "  <tbody>\n",
       "    <tr>\n",
       "      <th>2019-08-31</th>\n",
       "      <td>1.333333</td>\n",
       "    </tr>\n",
       "    <tr>\n",
       "      <th>2019-09-30</th>\n",
       "      <td>1.333333</td>\n",
       "    </tr>\n",
       "    <tr>\n",
       "      <th>2019-10-31</th>\n",
       "      <td>5.666667</td>\n",
       "    </tr>\n",
       "  </tbody>\n",
       "</table>\n",
       "</div>"
      ],
      "text/plain": [
       "               Units\n",
       "Date                \n",
       "2019-08-31  1.333333\n",
       "2019-09-30  1.333333\n",
       "2019-10-31  5.666667"
      ]
     },
     "execution_count": 311,
     "metadata": {},
     "output_type": "execute_result"
    }
   ],
   "source": [
    "# Aggregating means\n",
    "\n",
    "daily_mean = df_sales[['Units']].resample('M').mean()\n",
    "daily_mean"
   ]
  },
  {
   "cell_type": "markdown",
   "metadata": {},
   "source": [
    "## Verifying the results"
   ]
  },
  {
   "cell_type": "code",
   "execution_count": 312,
   "metadata": {},
   "outputs": [
    {
     "data": {
      "text/plain": [
       "Units    5.666667\n",
       "Name: 2019-10-31 00:00:00, dtype: float64"
      ]
     },
     "execution_count": 312,
     "metadata": {},
     "output_type": "execute_result"
    }
   ],
   "source": [
    "daily_mean.loc[\"2019-10-31\"]"
   ]
  },
  {
   "cell_type": "code",
   "execution_count": 313,
   "metadata": {},
   "outputs": [
    {
     "data": {
      "text/plain": [
       "Date\n",
       "2019-10-01 08:02:00     1\n",
       "2019-10-15 12:02:00     6\n",
       "2019-10-30 20:02:00    10\n",
       "Name: Units, dtype: int64"
      ]
     },
     "execution_count": 313,
     "metadata": {},
     "output_type": "execute_result"
    }
   ],
   "source": [
    "df_sales.loc[\"2019-10\", 'Units']"
   ]
  },
  {
   "cell_type": "code",
   "execution_count": 314,
   "metadata": {},
   "outputs": [
    {
     "data": {
      "text/html": [
       "<div>\n",
       "<style scoped>\n",
       "    .dataframe tbody tr th:only-of-type {\n",
       "        vertical-align: middle;\n",
       "    }\n",
       "\n",
       "    .dataframe tbody tr th {\n",
       "        vertical-align: top;\n",
       "    }\n",
       "\n",
       "    .dataframe thead th {\n",
       "        text-align: right;\n",
       "    }\n",
       "</style>\n",
       "<table border=\"1\" class=\"dataframe\">\n",
       "  <thead>\n",
       "    <tr style=\"text-align: right;\">\n",
       "      <th></th>\n",
       "      <th>Units</th>\n",
       "    </tr>\n",
       "    <tr>\n",
       "      <th>Date</th>\n",
       "      <th></th>\n",
       "    </tr>\n",
       "  </thead>\n",
       "  <tbody>\n",
       "    <tr>\n",
       "      <th>2019-08-31</th>\n",
       "      <td>4</td>\n",
       "    </tr>\n",
       "    <tr>\n",
       "      <th>2019-09-30</th>\n",
       "      <td>4</td>\n",
       "    </tr>\n",
       "    <tr>\n",
       "      <th>2019-10-31</th>\n",
       "      <td>17</td>\n",
       "    </tr>\n",
       "  </tbody>\n",
       "</table>\n",
       "</div>"
      ],
      "text/plain": [
       "            Units\n",
       "Date             \n",
       "2019-08-31      4\n",
       "2019-09-30      4\n",
       "2019-10-31     17"
      ]
     },
     "execution_count": 314,
     "metadata": {},
     "output_type": "execute_result"
    }
   ],
   "source": [
    "daily_sum = df_sales[['Units']].resample('M').sum()\n",
    "daily_sum"
   ]
  },
  {
   "cell_type": "code",
   "execution_count": 315,
   "metadata": {},
   "outputs": [
    {
     "data": {
      "text/plain": [
       "Units    17\n",
       "dtype: int64"
      ]
     },
     "execution_count": 315,
     "metadata": {},
     "output_type": "execute_result"
    }
   ],
   "source": [
    "df_sales[['Units']].resample('M').sum().max()"
   ]
  },
  {
   "cell_type": "code",
   "execution_count": 316,
   "metadata": {},
   "outputs": [
    {
     "data": {
      "text/html": [
       "<div>\n",
       "<style scoped>\n",
       "    .dataframe tbody tr th:only-of-type {\n",
       "        vertical-align: middle;\n",
       "    }\n",
       "\n",
       "    .dataframe tbody tr th {\n",
       "        vertical-align: top;\n",
       "    }\n",
       "\n",
       "    .dataframe thead th {\n",
       "        text-align: right;\n",
       "    }\n",
       "</style>\n",
       "<table border=\"1\" class=\"dataframe\">\n",
       "  <thead>\n",
       "    <tr style=\"text-align: right;\">\n",
       "      <th></th>\n",
       "      <th>Company</th>\n",
       "      <th>Product</th>\n",
       "      <th>Units</th>\n",
       "    </tr>\n",
       "    <tr>\n",
       "      <th>Date</th>\n",
       "      <th></th>\n",
       "      <th></th>\n",
       "      <th></th>\n",
       "    </tr>\n",
       "  </thead>\n",
       "  <tbody>\n",
       "    <tr>\n",
       "      <th>2019-08-04</th>\n",
       "      <td>1</td>\n",
       "      <td>1</td>\n",
       "      <td>1</td>\n",
       "    </tr>\n",
       "    <tr>\n",
       "      <th>2019-08-11</th>\n",
       "      <td>0</td>\n",
       "      <td>0</td>\n",
       "      <td>0</td>\n",
       "    </tr>\n",
       "    <tr>\n",
       "      <th>2019-08-18</th>\n",
       "      <td>1</td>\n",
       "      <td>1</td>\n",
       "      <td>1</td>\n",
       "    </tr>\n",
       "    <tr>\n",
       "      <th>2019-08-25</th>\n",
       "      <td>0</td>\n",
       "      <td>0</td>\n",
       "      <td>0</td>\n",
       "    </tr>\n",
       "    <tr>\n",
       "      <th>2019-09-01</th>\n",
       "      <td>2</td>\n",
       "      <td>2</td>\n",
       "      <td>2</td>\n",
       "    </tr>\n",
       "    <tr>\n",
       "      <th>2019-09-08</th>\n",
       "      <td>0</td>\n",
       "      <td>0</td>\n",
       "      <td>0</td>\n",
       "    </tr>\n",
       "    <tr>\n",
       "      <th>2019-09-15</th>\n",
       "      <td>1</td>\n",
       "      <td>1</td>\n",
       "      <td>1</td>\n",
       "    </tr>\n",
       "    <tr>\n",
       "      <th>2019-09-22</th>\n",
       "      <td>0</td>\n",
       "      <td>0</td>\n",
       "      <td>0</td>\n",
       "    </tr>\n",
       "    <tr>\n",
       "      <th>2019-09-29</th>\n",
       "      <td>0</td>\n",
       "      <td>0</td>\n",
       "      <td>0</td>\n",
       "    </tr>\n",
       "    <tr>\n",
       "      <th>2019-10-06</th>\n",
       "      <td>2</td>\n",
       "      <td>2</td>\n",
       "      <td>2</td>\n",
       "    </tr>\n",
       "    <tr>\n",
       "      <th>2019-10-13</th>\n",
       "      <td>0</td>\n",
       "      <td>0</td>\n",
       "      <td>0</td>\n",
       "    </tr>\n",
       "    <tr>\n",
       "      <th>2019-10-20</th>\n",
       "      <td>1</td>\n",
       "      <td>1</td>\n",
       "      <td>1</td>\n",
       "    </tr>\n",
       "    <tr>\n",
       "      <th>2019-10-27</th>\n",
       "      <td>0</td>\n",
       "      <td>0</td>\n",
       "      <td>0</td>\n",
       "    </tr>\n",
       "    <tr>\n",
       "      <th>2019-11-03</th>\n",
       "      <td>1</td>\n",
       "      <td>1</td>\n",
       "      <td>1</td>\n",
       "    </tr>\n",
       "  </tbody>\n",
       "</table>\n",
       "</div>"
      ],
      "text/plain": [
       "            Company  Product  Units\n",
       "Date                               \n",
       "2019-08-04        1        1      1\n",
       "2019-08-11        0        0      0\n",
       "2019-08-18        1        1      1\n",
       "2019-08-25        0        0      0\n",
       "2019-09-01        2        2      2\n",
       "2019-09-08        0        0      0\n",
       "2019-09-15        1        1      1\n",
       "2019-09-22        0        0      0\n",
       "2019-09-29        0        0      0\n",
       "2019-10-06        2        2      2\n",
       "2019-10-13        0        0      0\n",
       "2019-10-20        1        1      1\n",
       "2019-10-27        0        0      0\n",
       "2019-11-03        1        1      1"
      ]
     },
     "execution_count": 316,
     "metadata": {},
     "output_type": "execute_result"
    }
   ],
   "source": [
    "df_sales.resample('W').count()"
   ]
  },
  {
   "cell_type": "markdown",
   "metadata": {},
   "source": [
    "## we also have 'T' for minutes, 'H' for hours, 'D' for days, 'W' for weeks, 'M' for months, 'Q' for quarters, and 'A' for years."
   ]
  },
  {
   "cell_type": "code",
   "execution_count": 317,
   "metadata": {},
   "outputs": [
    {
     "data": {
      "text/plain": [
       "Date\n",
       "2019-08-04     1\n",
       "2019-08-18     1\n",
       "2019-09-01     4\n",
       "2019-09-15     1\n",
       "2019-09-29     0\n",
       "2019-10-13     2\n",
       "2019-10-27     6\n",
       "2019-11-10    10\n",
       "Freq: 2W-SUN, Name: Units, dtype: int64"
      ]
     },
     "execution_count": 317,
     "metadata": {},
     "output_type": "execute_result"
    }
   ],
   "source": [
    "# Multiploying frequencies\n",
    "df_sales.loc[:,'Units'].resample('2W').sum()"
   ]
  },
  {
   "cell_type": "code",
   "execution_count": 318,
   "metadata": {},
   "outputs": [
    {
     "data": {
      "text/plain": [
       "Date\n",
       "2019-10-01 08:02:00     1\n",
       "2019-10-15 12:02:00     6\n",
       "2019-10-30 20:02:00    10\n",
       "Name: Units, dtype: int64"
      ]
     },
     "execution_count": 318,
     "metadata": {},
     "output_type": "execute_result"
    }
   ],
   "source": [
    "# Unsampling and filling\n",
    "one_day = df_sales.loc['2019-10-01':'2019-10-30', 'Units']\n",
    "one_day"
   ]
  },
  {
   "cell_type": "code",
   "execution_count": 319,
   "metadata": {},
   "outputs": [
    {
     "data": {
      "text/plain": [
       "Date\n",
       "2019-10-01 08:00:00     1\n",
       "2019-10-01 12:00:00     6\n",
       "2019-10-01 16:00:00     6\n",
       "2019-10-01 20:00:00     6\n",
       "2019-10-02 00:00:00     6\n",
       "                       ..\n",
       "2019-10-30 04:00:00    10\n",
       "2019-10-30 08:00:00    10\n",
       "2019-10-30 12:00:00    10\n",
       "2019-10-30 16:00:00    10\n",
       "2019-10-30 20:00:00    10\n",
       "Freq: 4h, Name: Units, Length: 178, dtype: int64"
      ]
     },
     "execution_count": 319,
     "metadata": {},
     "output_type": "execute_result"
    }
   ],
   "source": [
    "one_day.resample('4H').bfill()"
   ]
  },
  {
   "cell_type": "code",
   "execution_count": 320,
   "metadata": {},
   "outputs": [
    {
     "data": {
      "text/plain": [
       "Date\n",
       "2019-10-01 08:00:00     1.000000\n",
       "2019-10-01 12:00:00     1.058824\n",
       "2019-10-01 16:00:00     1.117647\n",
       "2019-10-01 20:00:00     1.176471\n",
       "2019-10-02 00:00:00     1.235294\n",
       "                         ...    \n",
       "2019-10-30 04:00:00     9.826087\n",
       "2019-10-30 08:00:00     9.869565\n",
       "2019-10-30 12:00:00     9.913043\n",
       "2019-10-30 16:00:00     9.956522\n",
       "2019-10-30 20:00:00    10.000000\n",
       "Freq: 4h, Name: Units, Length: 178, dtype: float64"
      ]
     },
     "execution_count": 320,
     "metadata": {},
     "output_type": "execute_result"
    }
   ],
   "source": [
    "# df = pd.DataFrame(dict(A=[1, 1, 3], B=[None, 5, 6], C=[1, 2, 3],\n",
    "#                      D=['3/11/2000', '3/12/2000', '3/13/2000']))\n",
    "\n",
    "# df['D'] = pd.to_datetime(df['D'])\n",
    "\n",
    "# print(df)\n",
    "# df.groupby(\"A\").last()\n",
    "\n",
    "one_day.resample('4H').first().interpolate('linear')"
   ]
  },
  {
   "cell_type": "markdown",
   "metadata": {},
   "source": [
    "# Manipulating time series data\n",
    "\n"
   ]
  },
  {
   "cell_type": "code",
   "execution_count": 321,
   "metadata": {},
   "outputs": [
    {
     "data": {
      "text/html": [
       "<div>\n",
       "<style scoped>\n",
       "    .dataframe tbody tr th:only-of-type {\n",
       "        vertical-align: middle;\n",
       "    }\n",
       "\n",
       "    .dataframe tbody tr th {\n",
       "        vertical-align: top;\n",
       "    }\n",
       "\n",
       "    .dataframe thead th {\n",
       "        text-align: right;\n",
       "    }\n",
       "</style>\n",
       "<table border=\"1\" class=\"dataframe\">\n",
       "  <thead>\n",
       "    <tr style=\"text-align: right;\">\n",
       "      <th></th>\n",
       "      <th>Date</th>\n",
       "      <th>Company</th>\n",
       "      <th>Product</th>\n",
       "      <th>Units</th>\n",
       "    </tr>\n",
       "  </thead>\n",
       "  <tbody>\n",
       "    <tr>\n",
       "      <th>0</th>\n",
       "      <td>2019-08-01 08:00:00</td>\n",
       "      <td>Apple</td>\n",
       "      <td>iPhone</td>\n",
       "      <td>1</td>\n",
       "    </tr>\n",
       "    <tr>\n",
       "      <th>1</th>\n",
       "      <td>2019-08-15 12:00:00</td>\n",
       "      <td>Microsoft</td>\n",
       "      <td>XBox</td>\n",
       "      <td>1</td>\n",
       "    </tr>\n",
       "    <tr>\n",
       "      <th>2</th>\n",
       "      <td>2019-08-30 20:00:00</td>\n",
       "      <td>Amazon</td>\n",
       "      <td>Mop</td>\n",
       "      <td>2</td>\n",
       "    </tr>\n",
       "    <tr>\n",
       "      <th>3</th>\n",
       "      <td>2019-09-01 08:01:00</td>\n",
       "      <td>Apple</td>\n",
       "      <td>iPad</td>\n",
       "      <td>2</td>\n",
       "    </tr>\n",
       "    <tr>\n",
       "      <th>4</th>\n",
       "      <td>2019-09-15 12:01:00</td>\n",
       "      <td>Microsoft</td>\n",
       "      <td>Surface</td>\n",
       "      <td>1</td>\n",
       "    </tr>\n",
       "    <tr>\n",
       "      <th>5</th>\n",
       "      <td>2019-09-30 20:01:00</td>\n",
       "      <td>Amazon</td>\n",
       "      <td>Decoration</td>\n",
       "      <td>1</td>\n",
       "    </tr>\n",
       "    <tr>\n",
       "      <th>6</th>\n",
       "      <td>2019-10-01 08:02:00</td>\n",
       "      <td>Apple</td>\n",
       "      <td>MacPro</td>\n",
       "      <td>1</td>\n",
       "    </tr>\n",
       "    <tr>\n",
       "      <th>7</th>\n",
       "      <td>2019-10-15 12:02:00</td>\n",
       "      <td>Microsoft</td>\n",
       "      <td>Office365</td>\n",
       "      <td>6</td>\n",
       "    </tr>\n",
       "    <tr>\n",
       "      <th>8</th>\n",
       "      <td>2019-10-30 20:02:00</td>\n",
       "      <td>Amazon</td>\n",
       "      <td>Pen</td>\n",
       "      <td>10</td>\n",
       "    </tr>\n",
       "  </tbody>\n",
       "</table>\n",
       "</div>"
      ],
      "text/plain": [
       "                 Date    Company     Product  Units\n",
       "0 2019-08-01 08:00:00      Apple      iPhone      1\n",
       "1 2019-08-15 12:00:00  Microsoft        XBox      1\n",
       "2 2019-08-30 20:00:00     Amazon         Mop      2\n",
       "3 2019-09-01 08:01:00      Apple        iPad      2\n",
       "4 2019-09-15 12:01:00  Microsoft     Surface      1\n",
       "5 2019-09-30 20:01:00     Amazon  Decoration      1\n",
       "6 2019-10-01 08:02:00      Apple      MacPro      1\n",
       "7 2019-10-15 12:02:00  Microsoft   Office365      6\n",
       "8 2019-10-30 20:02:00     Amazon         Pen     10"
      ]
     },
     "execution_count": 321,
     "metadata": {},
     "output_type": "execute_result"
    }
   ],
   "source": [
    "# Define the lists as shown in the image\n",
    "Date = ['2019-08-01 08:00:00', '2019-08-15 12:00:00', '2019-08-30 20:00:00', \n",
    "        '2019-09-01 08:01:00', '2019-09-15 12:01:00', '2019-09-30 20:01:00', \n",
    "        '2019-10-01 08:02:00', '2019-10-15 12:02:00', '2019-10-30 20:02:00']\n",
    "\n",
    "Company = ['Apple', 'Microsoft', 'Amazon', \n",
    "           'Apple', 'Microsoft', 'Amazon',\n",
    "           'Apple', 'Microsoft', 'Amazon']\n",
    "\n",
    "Product = ['iPhone', 'XBox', 'Mop', \n",
    "           'iPad', 'Surface', 'Decoration',\n",
    "           'MacPro', 'Office365', 'Pen']\n",
    "\n",
    "Units = ['1', '1', '2', \n",
    "         '2', '1', '1', \n",
    "         '1', '6', '10']\n",
    "\n",
    "df_sales = pd.DataFrame({'Date': Date, 'Company': Company, 'Product': Product, 'Units': Units})\n",
    "\n",
    "# Converting 'Date' to datetime\n",
    "df_sales['Date'] = pd.to_datetime(df_sales['Date'])\n",
    "\n",
    "# Setting 'Date' as the index\n",
    "# df_sales.set_index('Date', inplace=True)\n",
    "\n",
    "# Converting 'Units' to numeric\n",
    "df_sales['Units'] = pd.to_numeric(df_sales['Units'])\n",
    "\n",
    "\n",
    "df_sales\n",
    "\n"
   ]
  },
  {
   "cell_type": "markdown",
   "metadata": {},
   "source": [
    "## datetime format \n",
    "\n",
    "%Y: 年份（四位數）\n",
    "%m: 月份（01-12）\n",
    "%d: 日期（01-31）\n",
    "%H: 小時（00-23）\n",
    "%M: 分鐘（00-59）\n",
    "%S: 秒（00-59）"
   ]
  },
  {
   "cell_type": "code",
   "execution_count": 322,
   "metadata": {},
   "outputs": [
    {
     "data": {
      "text/html": [
       "<div>\n",
       "<style scoped>\n",
       "    .dataframe tbody tr th:only-of-type {\n",
       "        vertical-align: middle;\n",
       "    }\n",
       "\n",
       "    .dataframe tbody tr th {\n",
       "        vertical-align: top;\n",
       "    }\n",
       "\n",
       "    .dataframe thead th {\n",
       "        text-align: right;\n",
       "    }\n",
       "</style>\n",
       "<table border=\"1\" class=\"dataframe\">\n",
       "  <thead>\n",
       "    <tr style=\"text-align: right;\">\n",
       "      <th></th>\n",
       "      <th>Date</th>\n",
       "      <th>Company</th>\n",
       "      <th>Product</th>\n",
       "      <th>Units</th>\n",
       "      <th>Formatted Date</th>\n",
       "    </tr>\n",
       "  </thead>\n",
       "  <tbody>\n",
       "    <tr>\n",
       "      <th>0</th>\n",
       "      <td>2019-08-01 08:00:00</td>\n",
       "      <td>Apple</td>\n",
       "      <td>iPhone</td>\n",
       "      <td>1</td>\n",
       "      <td>2019-08-01</td>\n",
       "    </tr>\n",
       "    <tr>\n",
       "      <th>1</th>\n",
       "      <td>2019-08-15 12:00:00</td>\n",
       "      <td>Microsoft</td>\n",
       "      <td>XBox</td>\n",
       "      <td>1</td>\n",
       "      <td>2019-08-15</td>\n",
       "    </tr>\n",
       "    <tr>\n",
       "      <th>2</th>\n",
       "      <td>2019-08-30 20:00:00</td>\n",
       "      <td>Amazon</td>\n",
       "      <td>Mop</td>\n",
       "      <td>2</td>\n",
       "      <td>2019-08-30</td>\n",
       "    </tr>\n",
       "    <tr>\n",
       "      <th>3</th>\n",
       "      <td>2019-09-01 08:01:00</td>\n",
       "      <td>Apple</td>\n",
       "      <td>iPad</td>\n",
       "      <td>2</td>\n",
       "      <td>2019-09-01</td>\n",
       "    </tr>\n",
       "    <tr>\n",
       "      <th>4</th>\n",
       "      <td>2019-09-15 12:01:00</td>\n",
       "      <td>Microsoft</td>\n",
       "      <td>Surface</td>\n",
       "      <td>1</td>\n",
       "      <td>2019-09-15</td>\n",
       "    </tr>\n",
       "    <tr>\n",
       "      <th>5</th>\n",
       "      <td>2019-09-30 20:01:00</td>\n",
       "      <td>Amazon</td>\n",
       "      <td>Decoration</td>\n",
       "      <td>1</td>\n",
       "      <td>2019-09-30</td>\n",
       "    </tr>\n",
       "    <tr>\n",
       "      <th>6</th>\n",
       "      <td>2019-10-01 08:02:00</td>\n",
       "      <td>Apple</td>\n",
       "      <td>MacPro</td>\n",
       "      <td>1</td>\n",
       "      <td>2019-10-01</td>\n",
       "    </tr>\n",
       "    <tr>\n",
       "      <th>7</th>\n",
       "      <td>2019-10-15 12:02:00</td>\n",
       "      <td>Microsoft</td>\n",
       "      <td>Office365</td>\n",
       "      <td>6</td>\n",
       "      <td>2019-10-15</td>\n",
       "    </tr>\n",
       "    <tr>\n",
       "      <th>8</th>\n",
       "      <td>2019-10-30 20:02:00</td>\n",
       "      <td>Amazon</td>\n",
       "      <td>Pen</td>\n",
       "      <td>10</td>\n",
       "      <td>2019-10-30</td>\n",
       "    </tr>\n",
       "  </tbody>\n",
       "</table>\n",
       "</div>"
      ],
      "text/plain": [
       "                 Date    Company     Product  Units Formatted Date\n",
       "0 2019-08-01 08:00:00      Apple      iPhone      1     2019-08-01\n",
       "1 2019-08-15 12:00:00  Microsoft        XBox      1     2019-08-15\n",
       "2 2019-08-30 20:00:00     Amazon         Mop      2     2019-08-30\n",
       "3 2019-09-01 08:01:00      Apple        iPad      2     2019-09-01\n",
       "4 2019-09-15 12:01:00  Microsoft     Surface      1     2019-09-15\n",
       "5 2019-09-30 20:01:00     Amazon  Decoration      1     2019-09-30\n",
       "6 2019-10-01 08:02:00      Apple      MacPro      1     2019-10-01\n",
       "7 2019-10-15 12:02:00  Microsoft   Office365      6     2019-10-15\n",
       "8 2019-10-30 20:02:00     Amazon         Pen     10     2019-10-30"
      ]
     },
     "execution_count": 322,
     "metadata": {},
     "output_type": "execute_result"
    }
   ],
   "source": [
    "df_sales['Formatted Date'] = df_sales['Date'].dt.strftime('%Y-%m-%d'); df_sales\n"
   ]
  },
  {
   "cell_type": "markdown",
   "metadata": {},
   "source": [
    "### .str methods"
   ]
  },
  {
   "cell_type": "code",
   "execution_count": 323,
   "metadata": {},
   "outputs": [
    {
     "data": {
      "text/plain": [
       "0        APPLE\n",
       "1    MICROSOFT\n",
       "2       AMAZON\n",
       "3        APPLE\n",
       "4    MICROSOFT\n",
       "5       AMAZON\n",
       "6        APPLE\n",
       "7    MICROSOFT\n",
       "8       AMAZON\n",
       "Name: Company, dtype: object"
      ]
     },
     "execution_count": 323,
     "metadata": {},
     "output_type": "execute_result"
    }
   ],
   "source": [
    "# String methods\n",
    "df_sales['Company'].str.upper()"
   ]
  },
  {
   "cell_type": "code",
   "execution_count": 324,
   "metadata": {},
   "outputs": [
    {
     "data": {
      "text/plain": [
       "0     True\n",
       "1    False\n",
       "2    False\n",
       "3     True\n",
       "4    False\n",
       "5     True\n",
       "6    False\n",
       "7     True\n",
       "8    False\n",
       "Name: Product, dtype: bool"
      ]
     },
     "execution_count": 324,
     "metadata": {},
     "output_type": "execute_result"
    }
   ],
   "source": [
    "# String methods\n",
    "df_sales['Product'].str.contains('i')"
   ]
  },
  {
   "cell_type": "code",
   "execution_count": 325,
   "metadata": {},
   "outputs": [
    {
     "data": {
      "text/html": [
       "<div>\n",
       "<style scoped>\n",
       "    .dataframe tbody tr th:only-of-type {\n",
       "        vertical-align: middle;\n",
       "    }\n",
       "\n",
       "    .dataframe tbody tr th {\n",
       "        vertical-align: top;\n",
       "    }\n",
       "\n",
       "    .dataframe thead th {\n",
       "        text-align: right;\n",
       "    }\n",
       "</style>\n",
       "<table border=\"1\" class=\"dataframe\">\n",
       "  <thead>\n",
       "    <tr style=\"text-align: right;\">\n",
       "      <th></th>\n",
       "      <th>Date</th>\n",
       "      <th>Company</th>\n",
       "      <th>Product</th>\n",
       "      <th>Units</th>\n",
       "      <th>Formatted Date</th>\n",
       "    </tr>\n",
       "  </thead>\n",
       "  <tbody>\n",
       "    <tr>\n",
       "      <th>0</th>\n",
       "      <td>2019-08-01 08:00:00</td>\n",
       "      <td>Apple</td>\n",
       "      <td>iPhone</td>\n",
       "      <td>1</td>\n",
       "      <td>2019-08-01</td>\n",
       "    </tr>\n",
       "    <tr>\n",
       "      <th>3</th>\n",
       "      <td>2019-09-01 08:01:00</td>\n",
       "      <td>Apple</td>\n",
       "      <td>iPad</td>\n",
       "      <td>2</td>\n",
       "      <td>2019-09-01</td>\n",
       "    </tr>\n",
       "    <tr>\n",
       "      <th>5</th>\n",
       "      <td>2019-09-30 20:01:00</td>\n",
       "      <td>Amazon</td>\n",
       "      <td>Decoration</td>\n",
       "      <td>1</td>\n",
       "      <td>2019-09-30</td>\n",
       "    </tr>\n",
       "    <tr>\n",
       "      <th>7</th>\n",
       "      <td>2019-10-15 12:02:00</td>\n",
       "      <td>Microsoft</td>\n",
       "      <td>Office365</td>\n",
       "      <td>6</td>\n",
       "      <td>2019-10-15</td>\n",
       "    </tr>\n",
       "  </tbody>\n",
       "</table>\n",
       "</div>"
      ],
      "text/plain": [
       "                 Date    Company     Product  Units Formatted Date\n",
       "0 2019-08-01 08:00:00      Apple      iPhone      1     2019-08-01\n",
       "3 2019-09-01 08:01:00      Apple        iPad      2     2019-09-01\n",
       "5 2019-09-30 20:01:00     Amazon  Decoration      1     2019-09-30\n",
       "7 2019-10-15 12:02:00  Microsoft   Office365      6     2019-10-15"
      ]
     },
     "execution_count": 325,
     "metadata": {},
     "output_type": "execute_result"
    }
   ],
   "source": [
    "df_sales[df_sales['Product'].str.contains('i')]"
   ]
  },
  {
   "cell_type": "code",
   "execution_count": 326,
   "metadata": {},
   "outputs": [
    {
     "data": {
      "text/plain": [
       "4"
      ]
     },
     "execution_count": 326,
     "metadata": {},
     "output_type": "execute_result"
    }
   ],
   "source": [
    "# Boolean reduction\n",
    "# This command inform us that there were 4 rows where .str.contains('i') was True\n",
    "\n",
    "df_sales['Product'].str.contains('i').sum()"
   ]
  },
  {
   "cell_type": "markdown",
   "metadata": {},
   "source": [
    "## Datetime methods"
   ]
  },
  {
   "cell_type": "code",
   "execution_count": 327,
   "metadata": {},
   "outputs": [
    {
     "data": {
      "text/html": [
       "<div>\n",
       "<style scoped>\n",
       "    .dataframe tbody tr th:only-of-type {\n",
       "        vertical-align: middle;\n",
       "    }\n",
       "\n",
       "    .dataframe tbody tr th {\n",
       "        vertical-align: top;\n",
       "    }\n",
       "\n",
       "    .dataframe thead th {\n",
       "        text-align: right;\n",
       "    }\n",
       "</style>\n",
       "<table border=\"1\" class=\"dataframe\">\n",
       "  <thead>\n",
       "    <tr style=\"text-align: right;\">\n",
       "      <th></th>\n",
       "      <th>Date</th>\n",
       "      <th>Company</th>\n",
       "      <th>Product</th>\n",
       "      <th>Units</th>\n",
       "      <th>Formatted Date</th>\n",
       "    </tr>\n",
       "  </thead>\n",
       "  <tbody>\n",
       "    <tr>\n",
       "      <th>0</th>\n",
       "      <td>2019-08-01 08:00:00</td>\n",
       "      <td>Apple</td>\n",
       "      <td>iPhone</td>\n",
       "      <td>1</td>\n",
       "      <td>2019-08-01</td>\n",
       "    </tr>\n",
       "    <tr>\n",
       "      <th>1</th>\n",
       "      <td>2019-08-15 12:00:00</td>\n",
       "      <td>Microsoft</td>\n",
       "      <td>XBox</td>\n",
       "      <td>1</td>\n",
       "      <td>2019-08-15</td>\n",
       "    </tr>\n",
       "    <tr>\n",
       "      <th>2</th>\n",
       "      <td>2019-08-30 20:00:00</td>\n",
       "      <td>Amazon</td>\n",
       "      <td>Mop</td>\n",
       "      <td>2</td>\n",
       "      <td>2019-08-30</td>\n",
       "    </tr>\n",
       "    <tr>\n",
       "      <th>3</th>\n",
       "      <td>2019-09-01 08:01:00</td>\n",
       "      <td>Apple</td>\n",
       "      <td>iPad</td>\n",
       "      <td>2</td>\n",
       "      <td>2019-09-01</td>\n",
       "    </tr>\n",
       "    <tr>\n",
       "      <th>4</th>\n",
       "      <td>2019-09-15 12:01:00</td>\n",
       "      <td>Microsoft</td>\n",
       "      <td>Surface</td>\n",
       "      <td>1</td>\n",
       "      <td>2019-09-15</td>\n",
       "    </tr>\n",
       "    <tr>\n",
       "      <th>5</th>\n",
       "      <td>2019-09-30 20:01:00</td>\n",
       "      <td>Amazon</td>\n",
       "      <td>Decoration</td>\n",
       "      <td>1</td>\n",
       "      <td>2019-09-30</td>\n",
       "    </tr>\n",
       "    <tr>\n",
       "      <th>6</th>\n",
       "      <td>2019-10-01 08:02:00</td>\n",
       "      <td>Apple</td>\n",
       "      <td>MacPro</td>\n",
       "      <td>1</td>\n",
       "      <td>2019-10-01</td>\n",
       "    </tr>\n",
       "    <tr>\n",
       "      <th>7</th>\n",
       "      <td>2019-10-15 12:02:00</td>\n",
       "      <td>Microsoft</td>\n",
       "      <td>Office365</td>\n",
       "      <td>6</td>\n",
       "      <td>2019-10-15</td>\n",
       "    </tr>\n",
       "    <tr>\n",
       "      <th>8</th>\n",
       "      <td>2019-10-30 20:02:00</td>\n",
       "      <td>Amazon</td>\n",
       "      <td>Pen</td>\n",
       "      <td>10</td>\n",
       "      <td>2019-10-30</td>\n",
       "    </tr>\n",
       "  </tbody>\n",
       "</table>\n",
       "</div>"
      ],
      "text/plain": [
       "                 Date    Company     Product  Units Formatted Date\n",
       "0 2019-08-01 08:00:00      Apple      iPhone      1     2019-08-01\n",
       "1 2019-08-15 12:00:00  Microsoft        XBox      1     2019-08-15\n",
       "2 2019-08-30 20:00:00     Amazon         Mop      2     2019-08-30\n",
       "3 2019-09-01 08:01:00      Apple        iPad      2     2019-09-01\n",
       "4 2019-09-15 12:01:00  Microsoft     Surface      1     2019-09-15\n",
       "5 2019-09-30 20:01:00     Amazon  Decoration      1     2019-09-30\n",
       "6 2019-10-01 08:02:00      Apple      MacPro      1     2019-10-01\n",
       "7 2019-10-15 12:02:00  Microsoft   Office365      6     2019-10-15\n",
       "8 2019-10-30 20:02:00     Amazon         Pen     10     2019-10-30"
      ]
     },
     "execution_count": 327,
     "metadata": {},
     "output_type": "execute_result"
    }
   ],
   "source": [
    "df_sales"
   ]
  },
  {
   "cell_type": "code",
   "execution_count": 328,
   "metadata": {},
   "outputs": [
    {
     "data": {
      "text/plain": [
       "0     8\n",
       "1    12\n",
       "2    20\n",
       "3     8\n",
       "4    12\n",
       "5    20\n",
       "6     8\n",
       "7    12\n",
       "8    20\n",
       "Name: Date, dtype: int32"
      ]
     },
     "execution_count": 328,
     "metadata": {},
     "output_type": "execute_result"
    }
   ],
   "source": [
    "df_sales['Date'].dt.hour\n",
    "## this returns a new integer series where 0 is midnight and 23 is pm"
   ]
  },
  {
   "cell_type": "code",
   "execution_count": 329,
   "metadata": {},
   "outputs": [
    {
     "data": {
      "text/plain": [
       "0   2019-08-01 08:00:00+00:00\n",
       "1   2019-08-15 12:00:00+00:00\n",
       "2   2019-08-30 20:00:00+00:00\n",
       "3   2019-09-01 08:01:00+00:00\n",
       "4   2019-09-15 12:01:00+00:00\n",
       "5   2019-09-30 20:01:00+00:00\n",
       "6   2019-10-01 08:02:00+00:00\n",
       "7   2019-10-15 12:02:00+00:00\n",
       "8   2019-10-30 20:02:00+00:00\n",
       "Name: Date, dtype: datetime64[ns, UTC]"
      ]
     },
     "execution_count": 329,
     "metadata": {},
     "output_type": "execute_result"
    }
   ],
   "source": [
    "df_sales['Date'].dt.tz_localize('UTC')"
   ]
  },
  {
   "cell_type": "code",
   "execution_count": 330,
   "metadata": {},
   "outputs": [
    {
     "data": {
      "text/plain": [
       "0   2019-08-01 08:00:00-04:00\n",
       "1   2019-08-15 12:00:00-04:00\n",
       "2   2019-08-30 20:00:00-04:00\n",
       "3   2019-09-01 08:01:00-04:00\n",
       "4   2019-09-15 12:01:00-04:00\n",
       "5   2019-09-30 20:01:00-04:00\n",
       "6   2019-10-01 08:02:00-04:00\n",
       "7   2019-10-15 12:02:00-04:00\n",
       "8   2019-10-30 20:02:00-04:00\n",
       "Name: Date, dtype: datetime64[ns, US/Eastern]"
      ]
     },
     "execution_count": 330,
     "metadata": {},
     "output_type": "execute_result"
    }
   ],
   "source": [
    "df_sales['Date'].dt.tz_localize('US/Eastern')"
   ]
  },
  {
   "cell_type": "code",
   "execution_count": 331,
   "metadata": {},
   "outputs": [
    {
     "data": {
      "text/plain": [
       "0   2019-08-01 14:00:00+02:00\n",
       "1   2019-08-15 18:00:00+02:00\n",
       "2   2019-08-31 02:00:00+02:00\n",
       "3   2019-09-01 14:01:00+02:00\n",
       "4   2019-09-15 18:01:00+02:00\n",
       "5   2019-10-01 02:01:00+02:00\n",
       "6   2019-10-01 14:02:00+02:00\n",
       "7   2019-10-15 18:02:00+02:00\n",
       "8   2019-10-31 01:02:00+01:00\n",
       "Name: Date, dtype: datetime64[ns, Europe/Berlin]"
      ]
     },
     "execution_count": 331,
     "metadata": {},
     "output_type": "execute_result"
    }
   ],
   "source": [
    "df_sales['Date'].dt.tz_localize('US/Eastern').dt.tz_convert('Europe/Berlin')"
   ]
  },
  {
   "cell_type": "markdown",
   "metadata": {},
   "source": [
    "# Time series visualization\n"
   ]
  },
  {
   "cell_type": "code",
   "execution_count": 332,
   "metadata": {},
   "outputs": [
    {
     "data": {
      "text/html": [
       "<div>\n",
       "<style scoped>\n",
       "    .dataframe tbody tr th:only-of-type {\n",
       "        vertical-align: middle;\n",
       "    }\n",
       "\n",
       "    .dataframe tbody tr th {\n",
       "        vertical-align: top;\n",
       "    }\n",
       "\n",
       "    .dataframe thead th {\n",
       "        text-align: right;\n",
       "    }\n",
       "</style>\n",
       "<table border=\"1\" class=\"dataframe\">\n",
       "  <thead>\n",
       "    <tr style=\"text-align: right;\">\n",
       "      <th></th>\n",
       "      <th>Company</th>\n",
       "      <th>Product</th>\n",
       "      <th>Units</th>\n",
       "    </tr>\n",
       "    <tr>\n",
       "      <th>Date</th>\n",
       "      <th></th>\n",
       "      <th></th>\n",
       "      <th></th>\n",
       "    </tr>\n",
       "  </thead>\n",
       "  <tbody>\n",
       "    <tr>\n",
       "      <th>2019-08-01 08:00:00</th>\n",
       "      <td>Apple</td>\n",
       "      <td>iPhone</td>\n",
       "      <td>1</td>\n",
       "    </tr>\n",
       "    <tr>\n",
       "      <th>2019-08-15 12:00:00</th>\n",
       "      <td>Microsoft</td>\n",
       "      <td>XBox</td>\n",
       "      <td>1</td>\n",
       "    </tr>\n",
       "    <tr>\n",
       "      <th>2019-08-30 20:00:00</th>\n",
       "      <td>Amazon</td>\n",
       "      <td>Mop</td>\n",
       "      <td>2</td>\n",
       "    </tr>\n",
       "    <tr>\n",
       "      <th>2019-09-01 08:01:00</th>\n",
       "      <td>Apple</td>\n",
       "      <td>iPad</td>\n",
       "      <td>2</td>\n",
       "    </tr>\n",
       "    <tr>\n",
       "      <th>2019-09-15 12:01:00</th>\n",
       "      <td>Microsoft</td>\n",
       "      <td>Surface</td>\n",
       "      <td>1</td>\n",
       "    </tr>\n",
       "    <tr>\n",
       "      <th>2019-09-30 20:01:00</th>\n",
       "      <td>Amazon</td>\n",
       "      <td>Decoration</td>\n",
       "      <td>1</td>\n",
       "    </tr>\n",
       "    <tr>\n",
       "      <th>2019-10-01 08:02:00</th>\n",
       "      <td>Apple</td>\n",
       "      <td>MacPro</td>\n",
       "      <td>1</td>\n",
       "    </tr>\n",
       "    <tr>\n",
       "      <th>2019-10-15 12:02:00</th>\n",
       "      <td>Microsoft</td>\n",
       "      <td>Office365</td>\n",
       "      <td>6</td>\n",
       "    </tr>\n",
       "    <tr>\n",
       "      <th>2019-10-30 20:02:00</th>\n",
       "      <td>Amazon</td>\n",
       "      <td>Pen</td>\n",
       "      <td>10</td>\n",
       "    </tr>\n",
       "  </tbody>\n",
       "</table>\n",
       "</div>"
      ],
      "text/plain": [
       "                       Company     Product  Units\n",
       "Date                                             \n",
       "2019-08-01 08:00:00      Apple      iPhone      1\n",
       "2019-08-15 12:00:00  Microsoft        XBox      1\n",
       "2019-08-30 20:00:00     Amazon         Mop      2\n",
       "2019-09-01 08:01:00      Apple        iPad      2\n",
       "2019-09-15 12:01:00  Microsoft     Surface      1\n",
       "2019-09-30 20:01:00     Amazon  Decoration      1\n",
       "2019-10-01 08:02:00      Apple      MacPro      1\n",
       "2019-10-15 12:02:00  Microsoft   Office365      6\n",
       "2019-10-30 20:02:00     Amazon         Pen     10"
      ]
     },
     "execution_count": 332,
     "metadata": {},
     "output_type": "execute_result"
    }
   ],
   "source": [
    "# Define the lists as shown in the image\n",
    "Date = ['2019-08-01 08:00:00', '2019-08-15 12:00:00', '2019-08-30 20:00:00', \n",
    "        '2019-09-01 08:01:00', '2019-09-15 12:01:00', '2019-09-30 20:01:00', \n",
    "        '2019-10-01 08:02:00', '2019-10-15 12:02:00', '2019-10-30 20:02:00']\n",
    "\n",
    "Company = ['Apple', 'Microsoft', 'Amazon', \n",
    "           'Apple', 'Microsoft', 'Amazon',\n",
    "           'Apple', 'Microsoft', 'Amazon']\n",
    "\n",
    "Product = ['iPhone', 'XBox', 'Mop', \n",
    "           'iPad', 'Surface', 'Decoration',\n",
    "           'MacPro', 'Office365', 'Pen']\n",
    "\n",
    "Units = ['1', '1', '2', \n",
    "         '2', '1', '1', \n",
    "         '1', '6', '10']\n",
    "\n",
    "df_sales = pd.DataFrame({'Date': Date, 'Company': Company, 'Product': Product, 'Units': Units})\n",
    "\n",
    "# Converting 'Date' to datetime\n",
    "df_sales['Date'] = pd.to_datetime(df_sales['Date'])\n",
    "\n",
    "# Setting 'Date' as the index\n",
    "df_sales.set_index('Date', inplace=True)\n",
    "\n",
    "# Converting 'Units' to numeric\n",
    "df_sales['Units'] = pd.to_numeric(df_sales['Units'])\n",
    "\n",
    "\n",
    "df_sales\n",
    "\n",
    "\n"
   ]
  },
  {
   "cell_type": "code",
   "execution_count": 333,
   "metadata": {},
   "outputs": [
    {
     "data": {
      "text/plain": [
       "<Axes: xlabel='Date'>"
      ]
     },
     "execution_count": 333,
     "metadata": {},
     "output_type": "execute_result"
    },
    {
     "data": {
      "image/png": "[encoded data removed]",
      "text/plain": [
       "<Figure size 640x480 with 1 Axes>"
      ]
     },
     "metadata": {},
     "output_type": "display_data"
    }
   ],
   "source": [
    "# pandas plot\n",
    "df_sales['Units'].plot()"
   ]
  },
  {
   "cell_type": "code",
   "execution_count": 334,
   "metadata": {},
   "outputs": [
    {
     "data": {
      "image/png": "[encoded data removed]",
      "text/plain": [
       "<Figure size 640x480 with 1 Axes>"
      ]
     },
     "metadata": {},
     "output_type": "display_data"
    }
   ],
   "source": [
    "# labels and Title\n",
    "\n",
    "df_sales['Units'].plot(title='Sales')\n",
    "plt.ylabel('Units')\n",
    "plt.show()"
   ]
  },
  {
   "cell_type": "code",
   "execution_count": 335,
   "metadata": {},
   "outputs": [
    {
     "data": {
      "image/png": "[encoded data removed]",
      "text/plain": [
       "<Figure size 640x480 with 1 Axes>"
      ]
     },
     "metadata": {},
     "output_type": "display_data"
    }
   ],
   "source": [
    "# One Month \n",
    "df_sales.loc['2019-08-01': '2019-08-31','Units'].plot(title='August Sales')\n",
    "plt.ylabel('Units')\n",
    "plt.show()\n"
   ]
  },
  {
   "cell_type": "code",
   "execution_count": 336,
   "metadata": {},
   "outputs": [
    {
     "data": {
      "image/png": "[encoded data removed]",
      "text/plain": [
       "<Figure size 640x480 with 1 Axes>"
      ]
     },
     "metadata": {},
     "output_type": "display_data"
    }
   ],
   "source": [
    "# plot style\n",
    "df_sales.loc['2019-08-01': '2019-08-31','Units'].plot(title='August Sales', style='b.-', linewidth=2, markersize=10)\n",
    "plt.ylabel('Units')\n",
    "plt.show()  "
   ]
  },
  {
   "cell_type": "code",
   "execution_count": 337,
   "metadata": {},
   "outputs": [
    {
     "data": {
      "image/png": "[encoded data removed]",
      "text/plain": [
       "<Figure size 640x480 with 1 Axes>"
      ]
     },
     "metadata": {},
     "output_type": "display_data"
    }
   ],
   "source": [
    "# plot style\n",
    "df_sales.loc['2019-08-01': '2019-08-31','Units'].plot(title='August Sales', kind=\"area\")\n",
    "plt.ylabel('Units')\n",
    "plt.show()  "
   ]
  },
  {
   "cell_type": "code",
   "execution_count": 338,
   "metadata": {},
   "outputs": [
    {
     "data": {
      "text/html": [
       "<div>\n",
       "<style scoped>\n",
       "    .dataframe tbody tr th:only-of-type {\n",
       "        vertical-align: middle;\n",
       "    }\n",
       "\n",
       "    .dataframe tbody tr th {\n",
       "        vertical-align: top;\n",
       "    }\n",
       "\n",
       "    .dataframe thead th {\n",
       "        text-align: right;\n",
       "    }\n",
       "</style>\n",
       "<table border=\"1\" class=\"dataframe\">\n",
       "  <thead>\n",
       "    <tr style=\"text-align: right;\">\n",
       "      <th></th>\n",
       "      <th>Company</th>\n",
       "      <th>Product</th>\n",
       "      <th>Units</th>\n",
       "      <th>price$</th>\n",
       "    </tr>\n",
       "    <tr>\n",
       "      <th>Date</th>\n",
       "      <th></th>\n",
       "      <th></th>\n",
       "      <th></th>\n",
       "      <th></th>\n",
       "    </tr>\n",
       "  </thead>\n",
       "  <tbody>\n",
       "    <tr>\n",
       "      <th>2019-08-01 08:00:00</th>\n",
       "      <td>Apple</td>\n",
       "      <td>iPhone</td>\n",
       "      <td>1</td>\n",
       "      <td>999</td>\n",
       "    </tr>\n",
       "    <tr>\n",
       "      <th>2019-08-15 12:00:00</th>\n",
       "      <td>Microsoft</td>\n",
       "      <td>XBox</td>\n",
       "      <td>1</td>\n",
       "      <td>300</td>\n",
       "    </tr>\n",
       "    <tr>\n",
       "      <th>2019-08-30 20:00:00</th>\n",
       "      <td>Amazon</td>\n",
       "      <td>Mop</td>\n",
       "      <td>2</td>\n",
       "      <td>10</td>\n",
       "    </tr>\n",
       "    <tr>\n",
       "      <th>2019-09-01 08:01:00</th>\n",
       "      <td>Apple</td>\n",
       "      <td>iPad</td>\n",
       "      <td>2</td>\n",
       "      <td>1399</td>\n",
       "    </tr>\n",
       "    <tr>\n",
       "      <th>2019-09-15 12:01:00</th>\n",
       "      <td>Microsoft</td>\n",
       "      <td>Surface</td>\n",
       "      <td>1</td>\n",
       "      <td>1299</td>\n",
       "    </tr>\n",
       "    <tr>\n",
       "      <th>2019-09-30 20:01:00</th>\n",
       "      <td>Amazon</td>\n",
       "      <td>Decoration</td>\n",
       "      <td>1</td>\n",
       "      <td>99</td>\n",
       "    </tr>\n",
       "    <tr>\n",
       "      <th>2019-10-01 08:02:00</th>\n",
       "      <td>Apple</td>\n",
       "      <td>MacPro</td>\n",
       "      <td>1</td>\n",
       "      <td>2999</td>\n",
       "    </tr>\n",
       "    <tr>\n",
       "      <th>2019-10-15 12:02:00</th>\n",
       "      <td>Microsoft</td>\n",
       "      <td>Office365</td>\n",
       "      <td>6</td>\n",
       "      <td>199</td>\n",
       "    </tr>\n",
       "    <tr>\n",
       "      <th>2019-10-30 20:02:00</th>\n",
       "      <td>Amazon</td>\n",
       "      <td>Pen</td>\n",
       "      <td>10</td>\n",
       "      <td>20</td>\n",
       "    </tr>\n",
       "  </tbody>\n",
       "</table>\n",
       "</div>"
      ],
      "text/plain": [
       "                       Company     Product  Units  price$\n",
       "Date                                                     \n",
       "2019-08-01 08:00:00      Apple      iPhone      1     999\n",
       "2019-08-15 12:00:00  Microsoft        XBox      1     300\n",
       "2019-08-30 20:00:00     Amazon         Mop      2      10\n",
       "2019-09-01 08:01:00      Apple        iPad      2    1399\n",
       "2019-09-15 12:01:00  Microsoft     Surface      1    1299\n",
       "2019-09-30 20:01:00     Amazon  Decoration      1      99\n",
       "2019-10-01 08:02:00      Apple      MacPro      1    2999\n",
       "2019-10-15 12:02:00  Microsoft   Office365      6     199\n",
       "2019-10-30 20:02:00     Amazon         Pen     10      20"
      ]
     },
     "execution_count": 338,
     "metadata": {},
     "output_type": "execute_result"
    }
   ],
   "source": [
    "price = [999,300,10,1399,1299,99,2999,199,20]\n",
    "df_sales['price$'] = price\n",
    "df_sales"
   ]
  },
  {
   "cell_type": "code",
   "execution_count": 339,
   "metadata": {},
   "outputs": [
    {
     "data": {
      "image/png": "[encoded data removed]",
      "text/plain": [
       "<Figure size 640x480 with 1 Axes>"
      ]
     },
     "metadata": {},
     "output_type": "display_data"
    }
   ],
   "source": [
    "# Multiple columns\n",
    "\n",
    "df_sales.loc['2019', ['Units', 'price$']].plot(title='August Sales', color=['tab:red', 'tab:blue'])\n",
    "plt.show()"
   ]
  },
  {
   "cell_type": "code",
   "execution_count": 340,
   "metadata": {},
   "outputs": [
    {
     "data": {
      "image/png": "[encoded data removed]",
      "text/plain": [
       "<Figure size 640x480 with 2 Axes>"
      ]
     },
     "metadata": {},
     "output_type": "display_data"
    }
   ],
   "source": [
    "\n",
    "# Selecting data from 2019 with 'Units' and 'price$' columns\n",
    "data_2019 = df_sales.loc['2019', ['Units', 'price$']]\n",
    "\n",
    "# Plotting with a twin y-axis\n",
    "fig, ax1 = plt.subplots()\n",
    "\n",
    "# First y-axis for 'Units'\n",
    "color = 'tab:red'\n",
    "ax1.set_xlabel('Date')\n",
    "ax1.set_ylabel('Units', color=color)\n",
    "ax1.plot(data_2019.index, data_2019['Units'], color=color)\n",
    "ax1.tick_params(axis='y', labelcolor=color)\n",
    "\n",
    "# Second y-axis for 'price$'\n",
    "ax2 = ax1.twinx()  # instantiate a second axes that shares the same x-axis\n",
    "color = 'tab:blue'\n",
    "ax2.set_ylabel('Price ($)', color=color)  # we already handled the x-label with ax1\n",
    "ax2.plot(data_2019.index, data_2019['price$'], color=color)\n",
    "ax2.tick_params(axis='y', labelcolor=color)\n",
    "\n",
    "# Title\n",
    "fig.tight_layout()  # otherwise the right y-label is slightly clipped\n",
    "plt.title('2019 Sales: Units and Price$')\n",
    "plt.show()"
   ]
  },
  {
   "cell_type": "markdown",
   "metadata": {},
   "source": [
    "## 整合應用 (一些工作會用到的小技巧)"
   ]
  },
  {
   "cell_type": "code",
   "execution_count": 370,
   "metadata": {},
   "outputs": [
    {
     "data": {
      "text/html": [
       "<div>\n",
       "<style scoped>\n",
       "    .dataframe tbody tr th:only-of-type {\n",
       "        vertical-align: middle;\n",
       "    }\n",
       "\n",
       "    .dataframe tbody tr th {\n",
       "        vertical-align: top;\n",
       "    }\n",
       "\n",
       "    .dataframe thead th {\n",
       "        text-align: right;\n",
       "    }\n",
       "</style>\n",
       "<table border=\"1\" class=\"dataframe\">\n",
       "  <thead>\n",
       "    <tr style=\"text-align: right;\">\n",
       "      <th></th>\n",
       "      <th>Date</th>\n",
       "      <th>Company</th>\n",
       "      <th>Product</th>\n",
       "      <th>Units</th>\n",
       "    </tr>\n",
       "  </thead>\n",
       "  <tbody>\n",
       "    <tr>\n",
       "      <th>0</th>\n",
       "      <td>2019-08-01 08:00:00</td>\n",
       "      <td>Apple</td>\n",
       "      <td>iPhone</td>\n",
       "      <td>1</td>\n",
       "    </tr>\n",
       "    <tr>\n",
       "      <th>1</th>\n",
       "      <td>2019-08-15 12:00:00</td>\n",
       "      <td>Microsoft</td>\n",
       "      <td>XBox</td>\n",
       "      <td>1</td>\n",
       "    </tr>\n",
       "    <tr>\n",
       "      <th>2</th>\n",
       "      <td>2019-08-30 20:00:00</td>\n",
       "      <td>Amazon</td>\n",
       "      <td>Mop</td>\n",
       "      <td>2</td>\n",
       "    </tr>\n",
       "    <tr>\n",
       "      <th>3</th>\n",
       "      <td>2019-09-01 08:01:00</td>\n",
       "      <td>Apple</td>\n",
       "      <td>iPad</td>\n",
       "      <td>2</td>\n",
       "    </tr>\n",
       "    <tr>\n",
       "      <th>4</th>\n",
       "      <td>2019-09-15 12:01:00</td>\n",
       "      <td>Microsoft</td>\n",
       "      <td>Surface</td>\n",
       "      <td>1</td>\n",
       "    </tr>\n",
       "    <tr>\n",
       "      <th>5</th>\n",
       "      <td>2019-09-30 20:01:00</td>\n",
       "      <td>Amazon</td>\n",
       "      <td>Decoration</td>\n",
       "      <td>1</td>\n",
       "    </tr>\n",
       "    <tr>\n",
       "      <th>6</th>\n",
       "      <td>2019-10-01 08:02:00</td>\n",
       "      <td>Apple</td>\n",
       "      <td>MacPro</td>\n",
       "      <td>1</td>\n",
       "    </tr>\n",
       "    <tr>\n",
       "      <th>7</th>\n",
       "      <td>2019-10-15 12:02:00</td>\n",
       "      <td>Microsoft</td>\n",
       "      <td>Office365</td>\n",
       "      <td>6</td>\n",
       "    </tr>\n",
       "    <tr>\n",
       "      <th>8</th>\n",
       "      <td>2019-10-30 20:02:00</td>\n",
       "      <td>Amazon</td>\n",
       "      <td>Pen</td>\n",
       "      <td>10</td>\n",
       "    </tr>\n",
       "  </tbody>\n",
       "</table>\n",
       "</div>"
      ],
      "text/plain": [
       "                 Date    Company     Product  Units\n",
       "0 2019-08-01 08:00:00      Apple      iPhone      1\n",
       "1 2019-08-15 12:00:00  Microsoft        XBox      1\n",
       "2 2019-08-30 20:00:00     Amazon         Mop      2\n",
       "3 2019-09-01 08:01:00      Apple        iPad      2\n",
       "4 2019-09-15 12:01:00  Microsoft     Surface      1\n",
       "5 2019-09-30 20:01:00     Amazon  Decoration      1\n",
       "6 2019-10-01 08:02:00      Apple      MacPro      1\n",
       "7 2019-10-15 12:02:00  Microsoft   Office365      6\n",
       "8 2019-10-30 20:02:00     Amazon         Pen     10"
      ]
     },
     "execution_count": 370,
     "metadata": {},
     "output_type": "execute_result"
    }
   ],
   "source": [
    "# 產生\n",
    "\n",
    "import pandas as pd\n",
    "from pandas.tseries.offsets import DateOffset\n",
    "import time\n",
    "from datetime import datetime\n",
    "\n",
    "\n",
    "# Define the lists as shown in the image\n",
    "Date = ['2019-08-01 08:00:00', '2019-08-15 12:00:00', '2019-08-30 20:00:00', \n",
    "        '2019-09-01 08:01:00', '2019-09-15 12:01:00', '2019-09-30 20:01:00', \n",
    "        '2019-10-01 08:02:00', '2019-10-15 12:02:00', '2019-10-30 20:02:00']\n",
    "\n",
    "Company = ['Apple', 'Microsoft', 'Amazon', \n",
    "           'Apple', 'Microsoft', 'Amazon',\n",
    "           'Apple', 'Microsoft', 'Amazon']\n",
    "\n",
    "Product = ['iPhone', 'XBox', 'Mop', \n",
    "           'iPad', 'Surface', 'Decoration',\n",
    "           'MacPro', 'Office365', 'Pen']\n",
    "\n",
    "Units = ['1', '1', '2', \n",
    "         '2', '1', '1', \n",
    "         '1', '6', '10']\n",
    "\n",
    "df_sales = pd.DataFrame({'Date': Date, 'Company': Company, 'Product': Product, 'Units': Units})\n",
    "\n",
    "# Converting 'Date' to datetime\n",
    "df_sales['Date'] = pd.to_datetime(df_sales['Date'])\n",
    "\n",
    "# Setting 'Date' as the index\n",
    "# df_sales.set_index('Date', inplace=True)\n",
    "\n",
    "# Converting 'Units' to numeric\n",
    "df_sales['Units'] = pd.to_numeric(df_sales['Units'])\n",
    "\n",
    "\n",
    "df_sales\n",
    "\n"
   ]
  },
  {
   "cell_type": "code",
   "execution_count": 371,
   "metadata": {},
   "outputs": [],
   "source": [
    "df_sales['yyyy'] = df_sales['Date'].dt.year\n",
    "df_sales['mm'] = df_sales['Date'].dt.month \n",
    "df_sales['ww'] = df_sales['Date'].dt.strftime('%U') # week number 每年計算，年中週\n",
    "df_sales['ww_mon'] = df_sales['Date'].dt.strftime('%W') # week number 每週計算，週一當第一天\n",
    "df_sales['dd'] = df_sales['Date'].dt.day\n",
    "df_sales['weekday'] = df_sales['Date'].dt.day_of_week\n",
    "df_sales['date'] = df_sales['Date'].dt.date\n",
    "\n",
    "df_sales['ww_sun'] = df_sales['Date'] - pd.Timedelta(days=1)\n",
    "df_sales['ww_sun'] = df_sales['ww_sun'].dt.strftime('%W')"
   ]
  },
  {
   "cell_type": "code",
   "execution_count": 372,
   "metadata": {},
   "outputs": [
    {
     "data": {
      "text/html": [
       "<div>\n",
       "<style scoped>\n",
       "    .dataframe tbody tr th:only-of-type {\n",
       "        vertical-align: middle;\n",
       "    }\n",
       "\n",
       "    .dataframe tbody tr th {\n",
       "        vertical-align: top;\n",
       "    }\n",
       "\n",
       "    .dataframe thead th {\n",
       "        text-align: right;\n",
       "    }\n",
       "</style>\n",
       "<table border=\"1\" class=\"dataframe\">\n",
       "  <thead>\n",
       "    <tr style=\"text-align: right;\">\n",
       "      <th></th>\n",
       "      <th>Date</th>\n",
       "      <th>Company</th>\n",
       "      <th>Product</th>\n",
       "      <th>Units</th>\n",
       "      <th>yyyy</th>\n",
       "      <th>mm</th>\n",
       "      <th>ww</th>\n",
       "      <th>ww_mon</th>\n",
       "      <th>dd</th>\n",
       "      <th>weekday</th>\n",
       "      <th>date</th>\n",
       "      <th>ww_sun</th>\n",
       "    </tr>\n",
       "  </thead>\n",
       "  <tbody>\n",
       "    <tr>\n",
       "      <th>0</th>\n",
       "      <td>2019-08-01 08:00:00</td>\n",
       "      <td>Apple</td>\n",
       "      <td>iPhone</td>\n",
       "      <td>1</td>\n",
       "      <td>2019</td>\n",
       "      <td>8</td>\n",
       "      <td>30</td>\n",
       "      <td>30</td>\n",
       "      <td>1</td>\n",
       "      <td>3</td>\n",
       "      <td>2019-08-01</td>\n",
       "      <td>30</td>\n",
       "    </tr>\n",
       "    <tr>\n",
       "      <th>1</th>\n",
       "      <td>2019-08-15 12:00:00</td>\n",
       "      <td>Microsoft</td>\n",
       "      <td>XBox</td>\n",
       "      <td>1</td>\n",
       "      <td>2019</td>\n",
       "      <td>8</td>\n",
       "      <td>32</td>\n",
       "      <td>32</td>\n",
       "      <td>15</td>\n",
       "      <td>3</td>\n",
       "      <td>2019-08-15</td>\n",
       "      <td>32</td>\n",
       "    </tr>\n",
       "    <tr>\n",
       "      <th>2</th>\n",
       "      <td>2019-08-30 20:00:00</td>\n",
       "      <td>Amazon</td>\n",
       "      <td>Mop</td>\n",
       "      <td>2</td>\n",
       "      <td>2019</td>\n",
       "      <td>8</td>\n",
       "      <td>34</td>\n",
       "      <td>34</td>\n",
       "      <td>30</td>\n",
       "      <td>4</td>\n",
       "      <td>2019-08-30</td>\n",
       "      <td>34</td>\n",
       "    </tr>\n",
       "    <tr>\n",
       "      <th>3</th>\n",
       "      <td>2019-09-01 08:01:00</td>\n",
       "      <td>Apple</td>\n",
       "      <td>iPad</td>\n",
       "      <td>2</td>\n",
       "      <td>2019</td>\n",
       "      <td>9</td>\n",
       "      <td>35</td>\n",
       "      <td>34</td>\n",
       "      <td>1</td>\n",
       "      <td>6</td>\n",
       "      <td>2019-09-01</td>\n",
       "      <td>34</td>\n",
       "    </tr>\n",
       "    <tr>\n",
       "      <th>4</th>\n",
       "      <td>2019-09-15 12:01:00</td>\n",
       "      <td>Microsoft</td>\n",
       "      <td>Surface</td>\n",
       "      <td>1</td>\n",
       "      <td>2019</td>\n",
       "      <td>9</td>\n",
       "      <td>37</td>\n",
       "      <td>36</td>\n",
       "      <td>15</td>\n",
       "      <td>6</td>\n",
       "      <td>2019-09-15</td>\n",
       "      <td>36</td>\n",
       "    </tr>\n",
       "    <tr>\n",
       "      <th>5</th>\n",
       "      <td>2019-09-30 20:01:00</td>\n",
       "      <td>Amazon</td>\n",
       "      <td>Decoration</td>\n",
       "      <td>1</td>\n",
       "      <td>2019</td>\n",
       "      <td>9</td>\n",
       "      <td>39</td>\n",
       "      <td>39</td>\n",
       "      <td>30</td>\n",
       "      <td>0</td>\n",
       "      <td>2019-09-30</td>\n",
       "      <td>38</td>\n",
       "    </tr>\n",
       "    <tr>\n",
       "      <th>6</th>\n",
       "      <td>2019-10-01 08:02:00</td>\n",
       "      <td>Apple</td>\n",
       "      <td>MacPro</td>\n",
       "      <td>1</td>\n",
       "      <td>2019</td>\n",
       "      <td>10</td>\n",
       "      <td>39</td>\n",
       "      <td>39</td>\n",
       "      <td>1</td>\n",
       "      <td>1</td>\n",
       "      <td>2019-10-01</td>\n",
       "      <td>39</td>\n",
       "    </tr>\n",
       "    <tr>\n",
       "      <th>7</th>\n",
       "      <td>2019-10-15 12:02:00</td>\n",
       "      <td>Microsoft</td>\n",
       "      <td>Office365</td>\n",
       "      <td>6</td>\n",
       "      <td>2019</td>\n",
       "      <td>10</td>\n",
       "      <td>41</td>\n",
       "      <td>41</td>\n",
       "      <td>15</td>\n",
       "      <td>1</td>\n",
       "      <td>2019-10-15</td>\n",
       "      <td>41</td>\n",
       "    </tr>\n",
       "    <tr>\n",
       "      <th>8</th>\n",
       "      <td>2019-10-30 20:02:00</td>\n",
       "      <td>Amazon</td>\n",
       "      <td>Pen</td>\n",
       "      <td>10</td>\n",
       "      <td>2019</td>\n",
       "      <td>10</td>\n",
       "      <td>43</td>\n",
       "      <td>43</td>\n",
       "      <td>30</td>\n",
       "      <td>2</td>\n",
       "      <td>2019-10-30</td>\n",
       "      <td>43</td>\n",
       "    </tr>\n",
       "  </tbody>\n",
       "</table>\n",
       "</div>"
      ],
      "text/plain": [
       "                 Date    Company     Product  Units  yyyy  mm  ww ww_mon  dd  \\\n",
       "0 2019-08-01 08:00:00      Apple      iPhone      1  2019   8  30     30   1   \n",
       "1 2019-08-15 12:00:00  Microsoft        XBox      1  2019   8  32     32  15   \n",
       "2 2019-08-30 20:00:00     Amazon         Mop      2  2019   8  34     34  30   \n",
       "3 2019-09-01 08:01:00      Apple        iPad      2  2019   9  35     34   1   \n",
       "4 2019-09-15 12:01:00  Microsoft     Surface      1  2019   9  37     36  15   \n",
       "5 2019-09-30 20:01:00     Amazon  Decoration      1  2019   9  39     39  30   \n",
       "6 2019-10-01 08:02:00      Apple      MacPro      1  2019  10  39     39   1   \n",
       "7 2019-10-15 12:02:00  Microsoft   Office365      6  2019  10  41     41  15   \n",
       "8 2019-10-30 20:02:00     Amazon         Pen     10  2019  10  43     43  30   \n",
       "\n",
       "   weekday        date ww_sun  \n",
       "0        3  2019-08-01     30  \n",
       "1        3  2019-08-15     32  \n",
       "2        4  2019-08-30     34  \n",
       "3        6  2019-09-01     34  \n",
       "4        6  2019-09-15     36  \n",
       "5        0  2019-09-30     38  \n",
       "6        1  2019-10-01     39  \n",
       "7        1  2019-10-15     41  \n",
       "8        2  2019-10-30     43  "
      ]
     },
     "execution_count": 372,
     "metadata": {},
     "output_type": "execute_result"
    }
   ],
   "source": [
    "df_sales"
   ]
  },
  {
   "cell_type": "code",
   "execution_count": 373,
   "metadata": {},
   "outputs": [
    {
     "name": "stdout",
     "output_type": "stream",
     "text": [
      "<class 'pandas.core.frame.DataFrame'>\n",
      "RangeIndex: 9 entries, 0 to 8\n",
      "Data columns (total 12 columns):\n",
      " #   Column   Non-Null Count  Dtype         \n",
      "---  ------   --------------  -----         \n",
      " 0   Date     9 non-null      datetime64[ns]\n",
      " 1   Company  9 non-null      object        \n",
      " 2   Product  9 non-null      object        \n",
      " 3   Units    9 non-null      int64         \n",
      " 4   yyyy     9 non-null      int32         \n",
      " 5   mm       9 non-null      int32         \n",
      " 6   ww       9 non-null      object        \n",
      " 7   ww_mon   9 non-null      object        \n",
      " 8   dd       9 non-null      int32         \n",
      " 9   weekday  9 non-null      int32         \n",
      " 10  date     9 non-null      object        \n",
      " 11  ww_sun   9 non-null      object        \n",
      "dtypes: datetime64[ns](1), int32(4), int64(1), object(6)\n",
      "memory usage: 848.0+ bytes\n"
     ]
    }
   ],
   "source": [
    "df_sales.info()"
   ]
  },
  {
   "cell_type": "code",
   "execution_count": 374,
   "metadata": {},
   "outputs": [
    {
     "data": {
      "text/plain": [
       "datetime.datetime(2024, 3, 25, 18, 27, 53, 968671)"
      ]
     },
     "execution_count": 374,
     "metadata": {},
     "output_type": "execute_result"
    }
   ],
   "source": [
    "datetime.now()"
   ]
  },
  {
   "cell_type": "code",
   "execution_count": 376,
   "metadata": {},
   "outputs": [],
   "source": [
    "# 日期表\n",
    "def generate_date_range(freq, start_date=None):\n",
    "    \"\"\"\n",
    "    1.\t日：2023-01-01\n",
    "    2.\t週：起始日（週日）\n",
    "    3.\t月：2023-01-01\n",
    "    4.\t季：2023-03-01，2023-06-01，2023-09-01，2023-12-01\n",
    "    5.\t半年：2023-06-01，2023-12-01\n",
    "    6.\t年：2023-01-01\n",
    "    \"\"\"\n",
    "    end_date = datetime.now()\n",
    "\n",
    "    if start_date is None:\n",
    "        start_date = \"2022-01-01\"\n",
    "\n",
    "    if freq == \"Y\":\n",
    "        date_range = pd.date_range(start=start_date, end=end_date, freq=\"YS\")\n",
    "    elif freq == \"6M\":\n",
    "        date_range = pd.date_range(\n",
    "            start=start_date, end=end_date, freq=\"6MS\"\n",
    "        ) + DateOffset(months=5)\n",
    "    elif freq == \"3M\":\n",
    "        date_range = pd.date_range(\n",
    "            start=start_date, end=end_date, freq=\"3MS\"\n",
    "        ) + DateOffset(months=2)\n",
    "    elif freq == \"M\":\n",
    "        date_range = pd.date_range(start=start_date, end=end_date, freq=\"MS\")\n",
    "    elif freq == \"W\":\n",
    "        date_range = pd.date_range(start=start_date, end=end_date, freq=\"W\")\n",
    "        date_range = date_range.strftime(\"%Y-%m-%d\")\n",
    "    elif freq == \"D\":\n",
    "        date_range = pd.date_range(start=start_date, end=end_date, freq=\"D\")\n",
    "        date_range = date_range.strftime(\"%Y-%m-%d\")\n",
    "    else:\n",
    "        raise ValueError(\"不支持的频率：{}\".format(freq))\n",
    "\n",
    "    df = pd.DataFrame(date_range, columns=[\"dt\"])\n",
    "    if freq == \"Y\" or freq == \"6M\" or freq == \"3M\" or freq == \"M\":\n",
    "        df[\"dt\"] = df[\"dt\"].astype(\"str\").str[:7] + \"-01\"\n",
    "    elif freq == \"W\":\n",
    "        df.columns = [\"dt\"]\n",
    "    elif freq == \"D\":\n",
    "        df[\"dt\"] = df[\"dt\"].astype(\"str\")\n",
    "\n",
    "    return df.astype(\"str\")\n",
    "\n",
    "\n",
    "df_dt = generate_date_range(\"Y\")"
   ]
  },
  {
   "cell_type": "code",
   "execution_count": 377,
   "metadata": {},
   "outputs": [
    {
     "data": {
      "text/html": [
       "<div>\n",
       "<style scoped>\n",
       "    .dataframe tbody tr th:only-of-type {\n",
       "        vertical-align: middle;\n",
       "    }\n",
       "\n",
       "    .dataframe tbody tr th {\n",
       "        vertical-align: top;\n",
       "    }\n",
       "\n",
       "    .dataframe thead th {\n",
       "        text-align: right;\n",
       "    }\n",
       "</style>\n",
       "<table border=\"1\" class=\"dataframe\">\n",
       "  <thead>\n",
       "    <tr style=\"text-align: right;\">\n",
       "      <th></th>\n",
       "      <th>dt</th>\n",
       "    </tr>\n",
       "  </thead>\n",
       "  <tbody>\n",
       "    <tr>\n",
       "      <th>0</th>\n",
       "      <td>2022-01-01</td>\n",
       "    </tr>\n",
       "    <tr>\n",
       "      <th>1</th>\n",
       "      <td>2023-01-01</td>\n",
       "    </tr>\n",
       "    <tr>\n",
       "      <th>2</th>\n",
       "      <td>2024-01-01</td>\n",
       "    </tr>\n",
       "  </tbody>\n",
       "</table>\n",
       "</div>"
      ],
      "text/plain": [
       "           dt\n",
       "0  2022-01-01\n",
       "1  2023-01-01\n",
       "2  2024-01-01"
      ]
     },
     "execution_count": 377,
     "metadata": {},
     "output_type": "execute_result"
    }
   ],
   "source": [
    "df_dt"
   ]
  }
 ],
 "metadata": {
  "kernelspec": {
   "display_name": "Python 3",
   "language": "python",
   "name": "python3"
  },
  "language_info": {
   "codemirror_mode": {
    "name": "ipython",
    "version": 3
   },
   "file_extension": ".py",
   "mimetype": "text/x-python",
   "name": "python",
   "nbconvert_exporter": "python",
   "pygments_lexer": "ipython3",
   "version": "3.10.7"
  },
  "orig_nbformat": 4
 },
 "nbformat": 4,
 "nbformat_minor": 2
}
